{
 "cells": [
  {
   "cell_type": "markdown",
   "metadata": {},
   "source": [
    "# Data Preprocessing"
   ]
  },
  {
   "cell_type": "markdown",
   "metadata": {},
   "source": [
    "## 1. Import library"
   ]
  },
  {
   "cell_type": "code",
   "execution_count": 587,
   "metadata": {},
   "outputs": [],
   "source": [
    "import tensorflow as tf\n",
    "import numpy as np\n",
    "import pandas as pd\n",
    "import matplotlib.pyplot as plt\n",
    "import datetime\n",
    "from datetime import datetime\n",
    "\n"
   ]
  },
  {
   "cell_type": "markdown",
   "metadata": {},
   "source": [
    "## 2. Data pre-processing"
   ]
  },
  {
   "cell_type": "code",
   "execution_count": 620,
   "metadata": {},
   "outputs": [],
   "source": [
    "df=pd.read_csv('/Users/yupengshen/DA_portfolio/stock price prediction/NVDA.csv')"
   ]
  },
  {
   "cell_type": "code",
   "execution_count": 621,
   "metadata": {},
   "outputs": [
    {
     "data": {
      "text/html": [
       "<div>\n",
       "<style scoped>\n",
       "    .dataframe tbody tr th:only-of-type {\n",
       "        vertical-align: middle;\n",
       "    }\n",
       "\n",
       "    .dataframe tbody tr th {\n",
       "        vertical-align: top;\n",
       "    }\n",
       "\n",
       "    .dataframe thead th {\n",
       "        text-align: right;\n",
       "    }\n",
       "</style>\n",
       "<table border=\"1\" class=\"dataframe\">\n",
       "  <thead>\n",
       "    <tr style=\"text-align: right;\">\n",
       "      <th></th>\n",
       "      <th>Date</th>\n",
       "      <th>Open</th>\n",
       "      <th>High</th>\n",
       "      <th>Low</th>\n",
       "      <th>Close</th>\n",
       "      <th>Adj Close</th>\n",
       "      <th>Volume</th>\n",
       "    </tr>\n",
       "  </thead>\n",
       "  <tbody>\n",
       "    <tr>\n",
       "      <th>0</th>\n",
       "      <td>1999-01-22</td>\n",
       "      <td>0.437500</td>\n",
       "      <td>0.488281</td>\n",
       "      <td>0.388021</td>\n",
       "      <td>0.410156</td>\n",
       "      <td>0.376237</td>\n",
       "      <td>271468800</td>\n",
       "    </tr>\n",
       "    <tr>\n",
       "      <th>1</th>\n",
       "      <td>1999-01-25</td>\n",
       "      <td>0.442708</td>\n",
       "      <td>0.458333</td>\n",
       "      <td>0.410156</td>\n",
       "      <td>0.453125</td>\n",
       "      <td>0.415653</td>\n",
       "      <td>51048000</td>\n",
       "    </tr>\n",
       "    <tr>\n",
       "      <th>2</th>\n",
       "      <td>1999-01-26</td>\n",
       "      <td>0.458333</td>\n",
       "      <td>0.467448</td>\n",
       "      <td>0.411458</td>\n",
       "      <td>0.417969</td>\n",
       "      <td>0.383404</td>\n",
       "      <td>34320000</td>\n",
       "    </tr>\n",
       "    <tr>\n",
       "      <th>3</th>\n",
       "      <td>1999-01-27</td>\n",
       "      <td>0.419271</td>\n",
       "      <td>0.429688</td>\n",
       "      <td>0.395833</td>\n",
       "      <td>0.416667</td>\n",
       "      <td>0.382210</td>\n",
       "      <td>24436800</td>\n",
       "    </tr>\n",
       "    <tr>\n",
       "      <th>4</th>\n",
       "      <td>1999-01-28</td>\n",
       "      <td>0.416667</td>\n",
       "      <td>0.419271</td>\n",
       "      <td>0.412760</td>\n",
       "      <td>0.415365</td>\n",
       "      <td>0.381015</td>\n",
       "      <td>22752000</td>\n",
       "    </tr>\n",
       "  </tbody>\n",
       "</table>\n",
       "</div>"
      ],
      "text/plain": [
       "         Date      Open      High       Low     Close  Adj Close     Volume\n",
       "0  1999-01-22  0.437500  0.488281  0.388021  0.410156   0.376237  271468800\n",
       "1  1999-01-25  0.442708  0.458333  0.410156  0.453125   0.415653   51048000\n",
       "2  1999-01-26  0.458333  0.467448  0.411458  0.417969   0.383404   34320000\n",
       "3  1999-01-27  0.419271  0.429688  0.395833  0.416667   0.382210   24436800\n",
       "4  1999-01-28  0.416667  0.419271  0.412760  0.415365   0.381015   22752000"
      ]
     },
     "execution_count": 621,
     "metadata": {},
     "output_type": "execute_result"
    }
   ],
   "source": [
    "df.head()"
   ]
  },
  {
   "cell_type": "code",
   "execution_count": 622,
   "metadata": {},
   "outputs": [],
   "source": [
    "# Will only predict the close\n",
    "df=df[['Date','Close']]"
   ]
  },
  {
   "cell_type": "code",
   "execution_count": 623,
   "metadata": {},
   "outputs": [
    {
     "data": {
      "text/plain": [
       "Date      object\n",
       "Close    float64\n",
       "dtype: object"
      ]
     },
     "execution_count": 623,
     "metadata": {},
     "output_type": "execute_result"
    }
   ],
   "source": [
    "df.dtypes"
   ]
  },
  {
   "cell_type": "code",
   "execution_count": 624,
   "metadata": {},
   "outputs": [],
   "source": [
    "# Convert 'Date' from string to datetime \n",
    "df['Date']=pd.to_datetime(df['Date'])"
   ]
  },
  {
   "cell_type": "code",
   "execution_count": 625,
   "metadata": {},
   "outputs": [
    {
     "data": {
      "text/plain": [
       "Timestamp('2024-04-16 00:00:00')"
      ]
     },
     "execution_count": 625,
     "metadata": {},
     "output_type": "execute_result"
    }
   ],
   "source": [
    "df['Date'].max()"
   ]
  },
  {
   "cell_type": "code",
   "execution_count": 626,
   "metadata": {},
   "outputs": [
    {
     "data": {
      "text/plain": [
       "Date     datetime64[ns]\n",
       "Close           float64\n",
       "dtype: object"
      ]
     },
     "execution_count": 626,
     "metadata": {},
     "output_type": "execute_result"
    }
   ],
   "source": [
    "df.dtypes"
   ]
  },
  {
   "cell_type": "code",
   "execution_count": 627,
   "metadata": {},
   "outputs": [],
   "source": [
    "# Set the 'date_column' as the index\n",
    "df.set_index('Date', drop=True, inplace=True)"
   ]
  },
  {
   "cell_type": "code",
   "execution_count": 628,
   "metadata": {},
   "outputs": [
    {
     "data": {
      "text/html": [
       "<div>\n",
       "<style scoped>\n",
       "    .dataframe tbody tr th:only-of-type {\n",
       "        vertical-align: middle;\n",
       "    }\n",
       "\n",
       "    .dataframe tbody tr th {\n",
       "        vertical-align: top;\n",
       "    }\n",
       "\n",
       "    .dataframe thead th {\n",
       "        text-align: right;\n",
       "    }\n",
       "</style>\n",
       "<table border=\"1\" class=\"dataframe\">\n",
       "  <thead>\n",
       "    <tr style=\"text-align: right;\">\n",
       "      <th></th>\n",
       "      <th>Close</th>\n",
       "    </tr>\n",
       "    <tr>\n",
       "      <th>Date</th>\n",
       "      <th></th>\n",
       "    </tr>\n",
       "  </thead>\n",
       "  <tbody>\n",
       "    <tr>\n",
       "      <th>1999-01-22</th>\n",
       "      <td>0.410156</td>\n",
       "    </tr>\n",
       "    <tr>\n",
       "      <th>1999-01-25</th>\n",
       "      <td>0.453125</td>\n",
       "    </tr>\n",
       "    <tr>\n",
       "      <th>1999-01-26</th>\n",
       "      <td>0.417969</td>\n",
       "    </tr>\n",
       "    <tr>\n",
       "      <th>1999-01-27</th>\n",
       "      <td>0.416667</td>\n",
       "    </tr>\n",
       "    <tr>\n",
       "      <th>1999-01-28</th>\n",
       "      <td>0.415365</td>\n",
       "    </tr>\n",
       "  </tbody>\n",
       "</table>\n",
       "</div>"
      ],
      "text/plain": [
       "               Close\n",
       "Date                \n",
       "1999-01-22  0.410156\n",
       "1999-01-25  0.453125\n",
       "1999-01-26  0.417969\n",
       "1999-01-27  0.416667\n",
       "1999-01-28  0.415365"
      ]
     },
     "execution_count": 628,
     "metadata": {},
     "output_type": "execute_result"
    }
   ],
   "source": [
    "df.head()"
   ]
  },
  {
   "cell_type": "code",
   "execution_count": 629,
   "metadata": {},
   "outputs": [
    {
     "data": {
      "text/plain": [
       "[<matplotlib.lines.Line2D at 0x3c22b0410>]"
      ]
     },
     "execution_count": 629,
     "metadata": {},
     "output_type": "execute_result"
    },
    {
     "data": {
      "image/png": "[encoded data removed]",
      "text/plain": [
       "<Figure size 640x480 with 1 Axes>"
      ]
     },
     "metadata": {},
     "output_type": "display_data"
    }
   ],
   "source": [
    "plt.plot(df.index,df['Close'])"
   ]
  },
  {
   "cell_type": "code",
   "execution_count": 631,
   "metadata": {},
   "outputs": [
    {
     "data": {
      "text/html": [
       "<div>\n",
       "<style scoped>\n",
       "    .dataframe tbody tr th:only-of-type {\n",
       "        vertical-align: middle;\n",
       "    }\n",
       "\n",
       "    .dataframe tbody tr th {\n",
       "        vertical-align: top;\n",
       "    }\n",
       "\n",
       "    .dataframe thead th {\n",
       "        text-align: right;\n",
       "    }\n",
       "</style>\n",
       "<table border=\"1\" class=\"dataframe\">\n",
       "  <thead>\n",
       "    <tr style=\"text-align: right;\">\n",
       "      <th></th>\n",
       "      <th>Close</th>\n",
       "    </tr>\n",
       "    <tr>\n",
       "      <th>Date</th>\n",
       "      <th></th>\n",
       "    </tr>\n",
       "  </thead>\n",
       "  <tbody>\n",
       "    <tr>\n",
       "      <th>2023-04-03</th>\n",
       "      <td>279.649994</td>\n",
       "    </tr>\n",
       "    <tr>\n",
       "      <th>2023-04-04</th>\n",
       "      <td>274.529999</td>\n",
       "    </tr>\n",
       "    <tr>\n",
       "      <th>2023-04-05</th>\n",
       "      <td>268.809998</td>\n",
       "    </tr>\n",
       "    <tr>\n",
       "      <th>2023-04-06</th>\n",
       "      <td>270.369995</td>\n",
       "    </tr>\n",
       "    <tr>\n",
       "      <th>2023-04-10</th>\n",
       "      <td>275.790009</td>\n",
       "    </tr>\n",
       "    <tr>\n",
       "      <th>...</th>\n",
       "      <td>...</td>\n",
       "    </tr>\n",
       "    <tr>\n",
       "      <th>2024-04-10</th>\n",
       "      <td>870.390015</td>\n",
       "    </tr>\n",
       "    <tr>\n",
       "      <th>2024-04-11</th>\n",
       "      <td>906.159973</td>\n",
       "    </tr>\n",
       "    <tr>\n",
       "      <th>2024-04-12</th>\n",
       "      <td>881.859985</td>\n",
       "    </tr>\n",
       "    <tr>\n",
       "      <th>2024-04-15</th>\n",
       "      <td>860.010010</td>\n",
       "    </tr>\n",
       "    <tr>\n",
       "      <th>2024-04-16</th>\n",
       "      <td>878.010010</td>\n",
       "    </tr>\n",
       "  </tbody>\n",
       "</table>\n",
       "<p>261 rows × 1 columns</p>\n",
       "</div>"
      ],
      "text/plain": [
       "                 Close\n",
       "Date                  \n",
       "2023-04-03  279.649994\n",
       "2023-04-04  274.529999\n",
       "2023-04-05  268.809998\n",
       "2023-04-06  270.369995\n",
       "2023-04-10  275.790009\n",
       "...                ...\n",
       "2024-04-10  870.390015\n",
       "2024-04-11  906.159973\n",
       "2024-04-12  881.859985\n",
       "2024-04-15  860.010010\n",
       "2024-04-16  878.010010\n",
       "\n",
       "[261 rows x 1 columns]"
      ]
     },
     "execution_count": 631,
     "metadata": {},
     "output_type": "execute_result"
    }
   ],
   "source": [
    "# Window\n",
    "date_input=input(\"Enter the start date (YYYY-MM-DD): \")\n",
    "df = df.loc[date_input:]\n",
    "df"
   ]
  },
  {
   "cell_type": "code",
   "execution_count": 632,
   "metadata": {},
   "outputs": [
    {
     "data": {
      "text/plain": [
       "Timestamp('2023-04-03 00:00:00')"
      ]
     },
     "execution_count": 632,
     "metadata": {},
     "output_type": "execute_result"
    }
   ],
   "source": [
    "df.index.min()"
   ]
  },
  {
   "cell_type": "code",
   "execution_count": 633,
   "metadata": {},
   "outputs": [
    {
     "data": {
      "text/plain": [
       "Timestamp('2024-04-16 00:00:00')"
      ]
     },
     "execution_count": 633,
     "metadata": {},
     "output_type": "execute_result"
    }
   ],
   "source": [
    "df.index.max()"
   ]
  },
  {
   "cell_type": "code",
   "execution_count": 634,
   "metadata": {},
   "outputs": [
    {
     "data": {
      "text/plain": [
       "array([[279.649994],\n",
       "       [274.529999],\n",
       "       [268.809998],\n",
       "       [270.369995],\n",
       "       [275.790009],\n",
       "       [271.690002],\n",
       "       [264.950012],\n",
       "       [264.630005],\n",
       "       [267.579987],\n",
       "       [270.019989],\n",
       "       [276.670013],\n",
       "       [279.309998],\n",
       "       [271.040009],\n",
       "       [271.190002],\n",
       "       [270.420013],\n",
       "       [262.410004],\n",
       "       [269.559998],\n",
       "       [272.26001 ],\n",
       "       [277.48999 ],\n",
       "       [289.100006],\n",
       "       [282.100006],\n",
       "       [278.019989],\n",
       "       [275.619995],\n",
       "       [286.799988],\n",
       "       [291.51001 ],\n",
       "       [285.709991],\n",
       "       [288.850006],\n",
       "       [285.779999],\n",
       "       [283.399994],\n",
       "       [289.529999],\n",
       "       [292.130005],\n",
       "       [301.779999],\n",
       "       [316.779999],\n",
       "       [312.640015],\n",
       "       [311.76001 ],\n",
       "       [306.880005],\n",
       "       [305.380005],\n",
       "       [379.799988],\n",
       "       [389.459991],\n",
       "       [401.109985],\n",
       "       [378.339996],\n",
       "       [397.700012],\n",
       "       [393.269989],\n",
       "       [391.709991],\n",
       "       [386.540009],\n",
       "       [374.75    ],\n",
       "       [385.100006],\n",
       "       [387.700012],\n",
       "       [394.820007],\n",
       "       [410.220001],\n",
       "       [429.970001],\n",
       "       [426.529999],\n",
       "       [426.920013],\n",
       "       [438.079987],\n",
       "       [430.450012],\n",
       "       [430.25    ],\n",
       "       [422.089996],\n",
       "       [406.320007],\n",
       "       [418.76001 ],\n",
       "       [411.170013],\n",
       "       [408.220001],\n",
       "       [423.019989],\n",
       "       [424.130005],\n",
       "       [423.170013],\n",
       "       [421.029999],\n",
       "       [425.029999],\n",
       "       [421.799988],\n",
       "       [424.049988],\n",
       "       [439.019989],\n",
       "       [459.769989],\n",
       "       [454.690002],\n",
       "       [464.609985],\n",
       "       [474.940002],\n",
       "       [470.769989],\n",
       "       [455.200012],\n",
       "       [443.089996],\n",
       "       [446.119995],\n",
       "       [456.790009],\n",
       "       [454.519989],\n",
       "       [459.      ],\n",
       "       [467.5     ],\n",
       "       [467.290009],\n",
       "       [465.070007],\n",
       "       [442.690002],\n",
       "       [445.149994],\n",
       "       [446.799988],\n",
       "       [454.170013],\n",
       "       [446.640015],\n",
       "       [425.540009],\n",
       "       [423.880005],\n",
       "       [408.549988],\n",
       "       [437.529999],\n",
       "       [439.399994],\n",
       "       [434.859985],\n",
       "       [433.440002],\n",
       "       [432.98999 ],\n",
       "       [469.670013],\n",
       "       [456.679993],\n",
       "       [471.160004],\n",
       "       [471.630005],\n",
       "       [460.179993],\n",
       "       [468.350006],\n",
       "       [487.839996],\n",
       "       [492.640015],\n",
       "       [493.549988],\n",
       "       [485.089996],\n",
       "       [485.480011],\n",
       "       [470.609985],\n",
       "       [462.410004],\n",
       "       [455.720001],\n",
       "       [451.779999],\n",
       "       [448.700012],\n",
       "       [454.850006],\n",
       "       [455.809998],\n",
       "       [439.      ],\n",
       "       [439.660004],\n",
       "       [435.200012],\n",
       "       [422.390015],\n",
       "       [410.170013],\n",
       "       [416.100006],\n",
       "       [422.220001],\n",
       "       [419.109985],\n",
       "       [424.679993],\n",
       "       [430.890015],\n",
       "       [434.98999 ],\n",
       "       [447.820007],\n",
       "       [435.170013],\n",
       "       [440.410004],\n",
       "       [446.880005],\n",
       "       [457.619995],\n",
       "       [452.730011],\n",
       "       [457.980011],\n",
       "       [468.059998],\n",
       "       [469.450012],\n",
       "       [454.609985],\n",
       "       [460.950012],\n",
       "       [439.380005],\n",
       "       [421.959991],\n",
       "       [421.01001 ],\n",
       "       [413.869995],\n",
       "       [429.75    ],\n",
       "       [436.630005],\n",
       "       [417.790009],\n",
       "       [403.26001 ],\n",
       "       [405.      ],\n",
       "       [411.609985],\n",
       "       [407.799988],\n",
       "       [423.25    ],\n",
       "       [435.059998],\n",
       "       [450.049988],\n",
       "       [457.51001 ],\n",
       "       [459.549988],\n",
       "       [465.73999 ],\n",
       "       [469.5     ],\n",
       "       [483.350006],\n",
       "       [486.200012],\n",
       "       [496.559998],\n",
       "       [488.880005],\n",
       "       [494.799988],\n",
       "       [492.980011],\n",
       "       [504.089996],\n",
       "       [499.440002],\n",
       "       [487.160004],\n",
       "       [477.76001 ],\n",
       "       [482.420013],\n",
       "       [478.209991],\n",
       "       [481.399994],\n",
       "       [467.700012],\n",
       "       [467.649994],\n",
       "       [455.100006],\n",
       "       [465.660004],\n",
       "       [455.029999],\n",
       "       [465.959991],\n",
       "       [475.059998],\n",
       "       [466.269989],\n",
       "       [476.570007],\n",
       "       [480.880005],\n",
       "       [483.5     ],\n",
       "       [488.899994],\n",
       "       [500.769989],\n",
       "       [496.040009],\n",
       "       [481.109985],\n",
       "       [489.899994],\n",
       "       [488.299988],\n",
       "       [492.790009],\n",
       "       [494.170013],\n",
       "       [495.220001],\n",
       "       [495.220001],\n",
       "       [481.679993],\n",
       "       [475.690002],\n",
       "       [479.980011],\n",
       "       [490.970001],\n",
       "       [522.530029],\n",
       "       [531.400024],\n",
       "       [543.5     ],\n",
       "       [548.219971],\n",
       "       [547.099976],\n",
       "       [563.820007],\n",
       "       [560.530029],\n",
       "       [571.070007],\n",
       "       [594.909973],\n",
       "       [596.539978],\n",
       "       [598.72998 ],\n",
       "       [613.619995],\n",
       "       [616.169983],\n",
       "       [610.309998],\n",
       "       [624.650024],\n",
       "       [627.73999 ],\n",
       "       [615.27002 ],\n",
       "       [630.27002 ],\n",
       "       [661.599976],\n",
       "       [693.320007],\n",
       "       [682.22998 ],\n",
       "       [700.98999 ],\n",
       "       [696.409973],\n",
       "       [721.330017],\n",
       "       [722.47998 ],\n",
       "       [721.280029],\n",
       "       [739.      ],\n",
       "       [726.580017],\n",
       "       [726.130005],\n",
       "       [694.52002 ],\n",
       "       [674.719971],\n",
       "       [785.380005],\n",
       "       [788.169983],\n",
       "       [790.919983],\n",
       "       [787.01001 ],\n",
       "       [776.630005],\n",
       "       [791.119995],\n",
       "       [822.789978],\n",
       "       [852.369995],\n",
       "       [859.640015],\n",
       "       [887.      ],\n",
       "       [926.690002],\n",
       "       [875.280029],\n",
       "       [857.73999 ],\n",
       "       [919.130005],\n",
       "       [908.880005],\n",
       "       [879.440002],\n",
       "       [878.369995],\n",
       "       [884.549988],\n",
       "       [893.97998 ],\n",
       "       [903.719971],\n",
       "       [914.349976],\n",
       "       [942.890015],\n",
       "       [950.02002 ],\n",
       "       [925.609985],\n",
       "       [902.5     ],\n",
       "       [903.559998],\n",
       "       [903.630005],\n",
       "       [894.52002 ],\n",
       "       [889.640015],\n",
       "       [859.049988],\n",
       "       [880.080017],\n",
       "       [871.330017],\n",
       "       [853.539978],\n",
       "       [870.390015],\n",
       "       [906.159973],\n",
       "       [881.859985],\n",
       "       [860.01001 ],\n",
       "       [878.01001 ]])"
      ]
     },
     "execution_count": 634,
     "metadata": {},
     "output_type": "execute_result"
    }
   ],
   "source": [
    "# Convert DataFrame to NumPy array\n",
    "training_set = df.to_numpy()\n",
    "training_set"
   ]
  },
  {
   "cell_type": "code",
   "execution_count": 635,
   "metadata": {},
   "outputs": [
    {
     "name": "stdout",
     "output_type": "stream",
     "text": [
      "X shape == (258, 3, 1).\n",
      "y shape == (258,).\n",
      "dates shape == (258,).\n"
     ]
    }
   ],
   "source": [
    "# Creating a data structure with 3 past timestamps and 1 output\n",
    "X = []\n",
    "y = []\n",
    "\n",
    "n_future = 1  # Number of days we want to predict into the future\n",
    "n_past = 3    # Number of past days we want to use to predict the future\n",
    "\n",
    "for i in range(n_past, len(training_set) - n_future + 1):\n",
    "    X.append(training_set[i - n_past:i, 0])  # Retrieves past 3 days data\n",
    "    y.append(training_set[i + n_future - 1, 0])  # Accesses the target day's data\n",
    "\n",
    "# Convert lists to numpy arrays\n",
    "X, y = np.array(X), np.array(y)\n",
    "dates = df.index[n_past:len(training_set) - n_future + 1].to_numpy()\n",
    "\n",
    "X = X.reshape((len(dates), X.shape[1], 1))\n",
    "\n",
    "# Print shapes to confirm alignment\n",
    "print('X shape == {}.'.format(X.shape))\n",
    "print('y shape == {}.'.format(y.shape))\n",
    "print('dates shape == {}.'.format(dates.shape))"
   ]
  },
  {
   "cell_type": "markdown",
   "metadata": {},
   "source": [
    "# Create Models and training"
   ]
  },
  {
   "cell_type": "code",
   "execution_count": 636,
   "metadata": {},
   "outputs": [],
   "source": [
    "from tensorflow.keras.models import Sequential\n",
    "from tensorflow.keras.layers import *\n",
    "from tensorflow.keras.callbacks import ModelCheckpoint\n",
    "from tensorflow.keras.losses import MeanSquaredError\n",
    "from tensorflow.keras.metrics import RootMeanSquaredError\n",
    "from tensorflow.keras.optimizers import Adam\n",
    "from tensorflow.keras import layers\n",
    "from keras.callbacks import EarlyStopping,ReduceLROnPlateau"
   ]
  },
  {
   "cell_type": "code",
   "execution_count": 637,
   "metadata": {},
   "outputs": [
    {
     "data": {
      "image/png": "[encoded data removed]",
      "text/plain": [
       "<Figure size 1000x600 with 1 Axes>"
      ]
     },
     "metadata": {},
     "output_type": "display_data"
    }
   ],
   "source": [
    "q_80 = int(len(dates) * .85)\n",
    "q_90 = int(len(dates) * .9)\n",
    "\n",
    "dates_train, X_train, y_train = dates[:q_80], X[:q_80], y[:q_80]\n",
    "\n",
    "dates_val, X_val, y_val = dates[q_80:q_90], X[q_80:q_90], y[q_80:q_90]\n",
    "dates_test, X_test, y_test = dates[q_90:], X[q_90:], y[q_90:]\n",
    "\n",
    "plt.figure(figsize=(10, 6))  # Optional: Adjusts the size of the figure\n",
    "\n",
    "plt.plot(dates_train, y_train, label='Train')\n",
    "plt.plot(dates_val, y_val, label='Validation')\n",
    "plt.plot(dates_test, y_test, label='Test')\n",
    "\n",
    "plt.legend()  # This makes the legend display the labels\n",
    "plt.title('Training, Validation, and Test Data')\n",
    "plt.xlabel('Date')\n",
    "plt.ylabel('Target Variable')\n",
    "\n",
    "plt.show()\n"
   ]
  },
  {
   "cell_type": "code",
   "execution_count": 638,
   "metadata": {},
   "outputs": [
    {
     "name": "stderr",
     "output_type": "stream",
     "text": [
      "WARNING:absl:At this time, the v2.11+ optimizer `tf.keras.optimizers.Adam` runs slowly on M1/M2 Macs, please use the legacy Keras optimizer instead, located at `tf.keras.optimizers.legacy.Adam`.\n"
     ]
    },
    {
     "name": "stdout",
     "output_type": "stream",
     "text": [
      "Epoch 1/800\n",
      "7/7 [==============================] - 1s 35ms/step - loss: 210834.0156 - mean_absolute_error: 447.8389 - val_loss: 670232.6875 - val_mean_absolute_error: 816.3539 - lr: 0.0010\n",
      "Epoch 2/800\n",
      "7/7 [==============================] - 0s 3ms/step - loss: 210498.4062 - mean_absolute_error: 447.4660 - val_loss: 669692.9375 - val_mean_absolute_error: 816.0234 - lr: 0.0010\n",
      "Epoch 3/800\n",
      "7/7 [==============================] - 0s 3ms/step - loss: 210188.0938 - mean_absolute_error: 447.1146 - val_loss: 669109.9375 - val_mean_absolute_error: 815.6658 - lr: 0.0010\n",
      "Epoch 4/800\n",
      "7/7 [==============================] - 0s 3ms/step - loss: 209812.6719 - mean_absolute_error: 446.6973 - val_loss: 668316.1250 - val_mean_absolute_error: 815.1793 - lr: 0.0010\n",
      "Epoch 5/800\n",
      "7/7 [==============================] - 0s 3ms/step - loss: 209311.8906 - mean_absolute_error: 446.1341 - val_loss: 667155.1250 - val_mean_absolute_error: 814.4669 - lr: 0.0010\n",
      "Epoch 6/800\n",
      "7/7 [==============================] - 0s 3ms/step - loss: 208608.2500 - mean_absolute_error: 445.3396 - val_loss: 665477.7500 - val_mean_absolute_error: 813.4366 - lr: 0.0010\n",
      "Epoch 7/800\n",
      "7/7 [==============================] - 0s 3ms/step - loss: 207501.8594 - mean_absolute_error: 444.0968 - val_loss: 663127.8750 - val_mean_absolute_error: 811.9899 - lr: 0.0010\n",
      "Epoch 8/800\n",
      "7/7 [==============================] - 0s 3ms/step - loss: 205852.9531 - mean_absolute_error: 442.2285 - val_loss: 659205.3125 - val_mean_absolute_error: 809.5704 - lr: 0.0010\n",
      "Epoch 9/800\n",
      "7/7 [==============================] - 0s 3ms/step - loss: 203242.7344 - mean_absolute_error: 439.2869 - val_loss: 653687.9375 - val_mean_absolute_error: 806.1570 - lr: 0.0010\n",
      "Epoch 10/800\n",
      "7/7 [==============================] - 0s 3ms/step - loss: 200227.8906 - mean_absolute_error: 435.7905 - val_loss: 647069.0000 - val_mean_absolute_error: 802.0397 - lr: 0.0010\n",
      "Epoch 11/800\n",
      "7/7 [==============================] - 0s 3ms/step - loss: 196030.2969 - mean_absolute_error: 430.9884 - val_loss: 638507.8750 - val_mean_absolute_error: 796.6849 - lr: 0.0010\n",
      "Epoch 12/800\n",
      "7/7 [==============================] - 0s 3ms/step - loss: 190616.5156 - mean_absolute_error: 424.6964 - val_loss: 626107.7500 - val_mean_absolute_error: 788.8647 - lr: 0.0010\n",
      "Epoch 13/800\n",
      "7/7 [==============================] - 0s 3ms/step - loss: 183833.9219 - mean_absolute_error: 416.5634 - val_loss: 612492.4375 - val_mean_absolute_error: 780.1882 - lr: 0.0010\n",
      "Epoch 14/800\n",
      "7/7 [==============================] - 0s 3ms/step - loss: 175829.3750 - mean_absolute_error: 406.9096 - val_loss: 594766.1250 - val_mean_absolute_error: 768.7441 - lr: 0.0010\n",
      "Epoch 15/800\n",
      "7/7 [==============================] - 0s 3ms/step - loss: 165130.2656 - mean_absolute_error: 393.3701 - val_loss: 570352.7500 - val_mean_absolute_error: 752.6937 - lr: 0.0010\n",
      "Epoch 16/800\n",
      "7/7 [==============================] - 0s 3ms/step - loss: 152041.8281 - mean_absolute_error: 376.5630 - val_loss: 543928.4375 - val_mean_absolute_error: 734.9340 - lr: 0.0010\n",
      "Epoch 17/800\n",
      "7/7 [==============================] - 0s 3ms/step - loss: 137633.5312 - mean_absolute_error: 356.7738 - val_loss: 511251.4375 - val_mean_absolute_error: 712.3571 - lr: 0.0010\n",
      "Epoch 18/800\n",
      "7/7 [==============================] - 0s 3ms/step - loss: 121389.4062 - mean_absolute_error: 333.3839 - val_loss: 475976.6875 - val_mean_absolute_error: 687.1520 - lr: 0.0010\n",
      "Epoch 19/800\n",
      "7/7 [==============================] - 0s 3ms/step - loss: 104138.3672 - mean_absolute_error: 306.3670 - val_loss: 436464.6250 - val_mean_absolute_error: 657.7704 - lr: 0.0010\n",
      "Epoch 20/800\n",
      "7/7 [==============================] - 0s 3ms/step - loss: 85576.2344 - mean_absolute_error: 273.8832 - val_loss: 390227.6875 - val_mean_absolute_error: 621.6299 - lr: 0.0010\n",
      "Epoch 21/800\n",
      "7/7 [==============================] - 0s 3ms/step - loss: 66385.6328 - mean_absolute_error: 236.9129 - val_loss: 344112.0000 - val_mean_absolute_error: 583.3637 - lr: 0.0010\n",
      "Epoch 22/800\n",
      "7/7 [==============================] - 0s 3ms/step - loss: 49323.4688 - mean_absolute_error: 196.8452 - val_loss: 294778.5000 - val_mean_absolute_error: 539.4161 - lr: 0.0010\n",
      "Epoch 23/800\n",
      "7/7 [==============================] - 0s 3ms/step - loss: 33305.6797 - mean_absolute_error: 156.5525 - val_loss: 246061.8594 - val_mean_absolute_error: 492.2048 - lr: 0.0010\n",
      "Epoch 24/800\n",
      "7/7 [==============================] - 0s 3ms/step - loss: 21533.0234 - mean_absolute_error: 123.6131 - val_loss: 205554.7500 - val_mean_absolute_error: 449.1725 - lr: 0.0010\n",
      "Epoch 25/800\n",
      "7/7 [==============================] - 0s 3ms/step - loss: 14462.5488 - mean_absolute_error: 96.0817 - val_loss: 173542.8438 - val_mean_absolute_error: 412.0001 - lr: 0.0010\n",
      "Epoch 26/800\n",
      "7/7 [==============================] - 0s 3ms/step - loss: 11411.1846 - mean_absolute_error: 77.4158 - val_loss: 150172.8594 - val_mean_absolute_error: 382.5887 - lr: 0.0010\n",
      "Epoch 27/800\n",
      "7/7 [==============================] - 0s 3ms/step - loss: 10308.2549 - mean_absolute_error: 70.0059 - val_loss: 137132.0312 - val_mean_absolute_error: 365.1491 - lr: 0.0010\n",
      "Epoch 28/800\n",
      "7/7 [==============================] - 0s 3ms/step - loss: 10317.5986 - mean_absolute_error: 69.6656 - val_loss: 131524.5938 - val_mean_absolute_error: 357.3882 - lr: 0.0010\n",
      "Epoch 29/800\n",
      "7/7 [==============================] - 0s 3ms/step - loss: 10410.5195 - mean_absolute_error: 70.2507 - val_loss: 130961.7891 - val_mean_absolute_error: 356.5994 - lr: 0.0010\n",
      "Epoch 30/800\n",
      "7/7 [==============================] - 0s 3ms/step - loss: 10399.4785 - mean_absolute_error: 70.0525 - val_loss: 133579.6406 - val_mean_absolute_error: 360.2516 - lr: 0.0010\n",
      "Epoch 31/800\n",
      "7/7 [==============================] - 0s 3ms/step - loss: 10271.8926 - mean_absolute_error: 69.4588 - val_loss: 136630.2188 - val_mean_absolute_error: 364.4738 - lr: 0.0010\n",
      "Epoch 32/800\n",
      "7/7 [==============================] - 0s 3ms/step - loss: 9762.0664 - mean_absolute_error: 67.7629 - val_loss: 143247.2500 - val_mean_absolute_error: 373.5316 - lr: 0.0010\n",
      "Epoch 33/800\n",
      "7/7 [==============================] - 0s 3ms/step - loss: 9472.8135 - mean_absolute_error: 67.1650 - val_loss: 137349.9844 - val_mean_absolute_error: 365.5526 - lr: 0.0010\n",
      "Epoch 34/800\n",
      "7/7 [==============================] - 0s 4ms/step - loss: 9237.4648 - mean_absolute_error: 66.2927 - val_loss: 133994.8281 - val_mean_absolute_error: 360.9125 - lr: 0.0010\n",
      "Epoch 35/800\n",
      "7/7 [==============================] - 0s 3ms/step - loss: 8767.7920 - mean_absolute_error: 64.0464 - val_loss: 131223.2188 - val_mean_absolute_error: 357.1289 - lr: 0.0010\n",
      "Epoch 36/800\n",
      "7/7 [==============================] - 0s 3ms/step - loss: 8289.1162 - mean_absolute_error: 62.3687 - val_loss: 126484.0156 - val_mean_absolute_error: 350.4287 - lr: 0.0010\n",
      "Epoch 37/800\n",
      "7/7 [==============================] - 0s 3ms/step - loss: 7468.3921 - mean_absolute_error: 58.7877 - val_loss: 121868.8750 - val_mean_absolute_error: 343.8483 - lr: 0.0010\n",
      "Epoch 38/800\n",
      "7/7 [==============================] - 0s 3ms/step - loss: 6606.9629 - mean_absolute_error: 54.5402 - val_loss: 134425.0312 - val_mean_absolute_error: 361.9593 - lr: 0.0010\n",
      "Epoch 39/800\n",
      "7/7 [==============================] - 0s 3ms/step - loss: 6122.1479 - mean_absolute_error: 54.9334 - val_loss: 110827.0781 - val_mean_absolute_error: 327.4717 - lr: 0.0010\n",
      "Epoch 40/800\n",
      "7/7 [==============================] - 0s 3ms/step - loss: 5259.2051 - mean_absolute_error: 47.5081 - val_loss: 105187.2891 - val_mean_absolute_error: 318.8616 - lr: 0.0010\n",
      "Epoch 41/800\n",
      "7/7 [==============================] - 0s 3ms/step - loss: 4593.5552 - mean_absolute_error: 43.7673 - val_loss: 98032.2422 - val_mean_absolute_error: 307.3443 - lr: 0.0010\n",
      "Epoch 42/800\n",
      "7/7 [==============================] - 0s 3ms/step - loss: 4043.9187 - mean_absolute_error: 40.9280 - val_loss: 91982.7344 - val_mean_absolute_error: 297.2992 - lr: 0.0010\n",
      "Epoch 43/800\n",
      "7/7 [==============================] - 0s 3ms/step - loss: 3451.6162 - mean_absolute_error: 36.5426 - val_loss: 86974.3828 - val_mean_absolute_error: 288.8151 - lr: 0.0010\n",
      "Epoch 44/800\n",
      "7/7 [==============================] - 0s 3ms/step - loss: 2996.0664 - mean_absolute_error: 33.1574 - val_loss: 80711.1328 - val_mean_absolute_error: 277.6677 - lr: 0.0010\n",
      "Epoch 45/800\n",
      "7/7 [==============================] - 0s 3ms/step - loss: 2687.7278 - mean_absolute_error: 33.4563 - val_loss: 75838.2500 - val_mean_absolute_error: 268.7949 - lr: 0.0010\n",
      "Epoch 46/800\n",
      "7/7 [==============================] - 0s 3ms/step - loss: 2332.7200 - mean_absolute_error: 30.1338 - val_loss: 71888.3906 - val_mean_absolute_error: 261.4966 - lr: 0.0010\n",
      "Epoch 47/800\n",
      "7/7 [==============================] - 0s 3ms/step - loss: 2056.0562 - mean_absolute_error: 28.9386 - val_loss: 67669.2188 - val_mean_absolute_error: 253.3628 - lr: 0.0010\n",
      "Epoch 48/800\n",
      "7/7 [==============================] - 0s 3ms/step - loss: 1919.4620 - mean_absolute_error: 27.8463 - val_loss: 63397.1953 - val_mean_absolute_error: 244.7798 - lr: 0.0010\n",
      "Epoch 49/800\n",
      "7/7 [==============================] - 0s 5ms/step - loss: 1609.1332 - mean_absolute_error: 24.1297 - val_loss: 59947.7109 - val_mean_absolute_error: 237.6896 - lr: 0.0010\n",
      "Epoch 50/800\n",
      "7/7 [==============================] - 0s 6ms/step - loss: 1398.9242 - mean_absolute_error: 21.2942 - val_loss: 56630.3672 - val_mean_absolute_error: 230.6209 - lr: 0.0010\n",
      "Epoch 51/800\n",
      "7/7 [==============================] - 0s 4ms/step - loss: 1237.5858 - mean_absolute_error: 19.6233 - val_loss: 53272.7969 - val_mean_absolute_error: 223.2788 - lr: 0.0010\n",
      "Epoch 52/800\n",
      "7/7 [==============================] - 0s 4ms/step - loss: 1097.8143 - mean_absolute_error: 18.4201 - val_loss: 50668.8047 - val_mean_absolute_error: 217.5587 - lr: 0.0010\n",
      "Epoch 53/800\n",
      "7/7 [==============================] - 0s 3ms/step - loss: 991.8929 - mean_absolute_error: 17.2337 - val_loss: 48153.7070 - val_mean_absolute_error: 211.8977 - lr: 0.0010\n",
      "Epoch 54/800\n",
      "7/7 [==============================] - 0s 4ms/step - loss: 967.8616 - mean_absolute_error: 18.8496 - val_loss: 45405.9844 - val_mean_absolute_error: 205.3440 - lr: 0.0010\n",
      "Epoch 55/800\n",
      "7/7 [==============================] - 0s 3ms/step - loss: 857.4444 - mean_absolute_error: 17.1938 - val_loss: 42232.7422 - val_mean_absolute_error: 197.2783 - lr: 0.0010\n",
      "Epoch 56/800\n",
      "7/7 [==============================] - 0s 3ms/step - loss: 807.8137 - mean_absolute_error: 17.7738 - val_loss: 39701.8555 - val_mean_absolute_error: 190.7446 - lr: 0.0010\n",
      "Epoch 57/800\n",
      "7/7 [==============================] - 0s 3ms/step - loss: 730.0385 - mean_absolute_error: 16.5409 - val_loss: 37949.2891 - val_mean_absolute_error: 186.2549 - lr: 0.0010\n",
      "Epoch 58/800\n",
      "7/7 [==============================] - 0s 3ms/step - loss: 694.0876 - mean_absolute_error: 16.9849 - val_loss: 36874.0430 - val_mean_absolute_error: 183.6805 - lr: 0.0010\n",
      "Epoch 59/800\n",
      "7/7 [==============================] - 0s 3ms/step - loss: 607.6015 - mean_absolute_error: 15.2677 - val_loss: 35117.2305 - val_mean_absolute_error: 178.9030 - lr: 0.0010\n",
      "Epoch 60/800\n",
      "7/7 [==============================] - 0s 3ms/step - loss: 564.9702 - mean_absolute_error: 14.7884 - val_loss: 32872.1172 - val_mean_absolute_error: 172.3334 - lr: 0.0010\n",
      "Epoch 61/800\n",
      "7/7 [==============================] - 0s 3ms/step - loss: 514.9355 - mean_absolute_error: 14.1090 - val_loss: 31955.6367 - val_mean_absolute_error: 169.9862 - lr: 0.0010\n",
      "Epoch 62/800\n",
      "7/7 [==============================] - 0s 3ms/step - loss: 472.9872 - mean_absolute_error: 13.0654 - val_loss: 29668.5195 - val_mean_absolute_error: 162.8477 - lr: 0.0010\n",
      "Epoch 63/800\n",
      "7/7 [==============================] - 0s 3ms/step - loss: 493.7724 - mean_absolute_error: 14.5967 - val_loss: 28796.2734 - val_mean_absolute_error: 160.3784 - lr: 0.0010\n",
      "Epoch 64/800\n",
      "7/7 [==============================] - 0s 3ms/step - loss: 460.7097 - mean_absolute_error: 14.7129 - val_loss: 28193.4668 - val_mean_absolute_error: 158.8457 - lr: 0.0010\n",
      "Epoch 65/800\n",
      "7/7 [==============================] - 0s 3ms/step - loss: 455.8058 - mean_absolute_error: 14.9148 - val_loss: 27439.2617 - val_mean_absolute_error: 156.6547 - lr: 0.0010\n",
      "Epoch 66/800\n",
      "7/7 [==============================] - 0s 3ms/step - loss: 438.5195 - mean_absolute_error: 15.1068 - val_loss: 26389.8848 - val_mean_absolute_error: 153.3336 - lr: 0.0010\n",
      "Epoch 67/800\n",
      "7/7 [==============================] - 0s 3ms/step - loss: 424.4725 - mean_absolute_error: 14.3168 - val_loss: 24363.6680 - val_mean_absolute_error: 146.0908 - lr: 0.0010\n",
      "Epoch 68/800\n",
      "7/7 [==============================] - 0s 3ms/step - loss: 371.3086 - mean_absolute_error: 12.8667 - val_loss: 23624.3145 - val_mean_absolute_error: 143.6680 - lr: 0.0010\n",
      "Epoch 69/800\n",
      "7/7 [==============================] - 0s 5ms/step - loss: 353.0557 - mean_absolute_error: 13.0487 - val_loss: 23303.2734 - val_mean_absolute_error: 142.8702 - lr: 0.0010\n",
      "Epoch 70/800\n",
      "7/7 [==============================] - 0s 3ms/step - loss: 340.5254 - mean_absolute_error: 12.5472 - val_loss: 22521.6641 - val_mean_absolute_error: 140.1833 - lr: 0.0010\n",
      "Epoch 71/800\n",
      "7/7 [==============================] - 0s 3ms/step - loss: 316.9066 - mean_absolute_error: 12.0612 - val_loss: 21317.6660 - val_mean_absolute_error: 135.6258 - lr: 0.0010\n",
      "Epoch 72/800\n",
      "7/7 [==============================] - 0s 3ms/step - loss: 337.6358 - mean_absolute_error: 13.2597 - val_loss: 20938.5527 - val_mean_absolute_error: 134.5084 - lr: 0.0010\n",
      "Epoch 73/800\n",
      "7/7 [==============================] - 0s 3ms/step - loss: 316.1162 - mean_absolute_error: 12.2314 - val_loss: 21032.8105 - val_mean_absolute_error: 135.3668 - lr: 0.0010\n",
      "Epoch 74/800\n",
      "7/7 [==============================] - 0s 3ms/step - loss: 344.5572 - mean_absolute_error: 13.8429 - val_loss: 20464.2773 - val_mean_absolute_error: 133.3062 - lr: 0.0010\n",
      "Epoch 75/800\n",
      "7/7 [==============================] - 0s 3ms/step - loss: 360.9612 - mean_absolute_error: 13.7485 - val_loss: 18595.0527 - val_mean_absolute_error: 125.2690 - lr: 0.0010\n",
      "Epoch 76/800\n",
      "7/7 [==============================] - 0s 3ms/step - loss: 349.8619 - mean_absolute_error: 13.9029 - val_loss: 18018.4414 - val_mean_absolute_error: 122.9889 - lr: 0.0010\n",
      "Epoch 77/800\n",
      "7/7 [==============================] - 0s 3ms/step - loss: 319.0445 - mean_absolute_error: 13.3582 - val_loss: 18015.3105 - val_mean_absolute_error: 123.3854 - lr: 0.0010\n",
      "Epoch 78/800\n",
      "7/7 [==============================] - 0s 3ms/step - loss: 246.8812 - mean_absolute_error: 11.2929 - val_loss: 17600.9238 - val_mean_absolute_error: 121.7907 - lr: 0.0010\n",
      "Epoch 79/800\n",
      "7/7 [==============================] - 0s 3ms/step - loss: 263.7444 - mean_absolute_error: 11.8985 - val_loss: 17685.3535 - val_mean_absolute_error: 122.5405 - lr: 0.0010\n",
      "Epoch 80/800\n",
      "7/7 [==============================] - 0s 3ms/step - loss: 229.1711 - mean_absolute_error: 10.6266 - val_loss: 17164.3086 - val_mean_absolute_error: 120.4155 - lr: 0.0010\n",
      "Epoch 81/800\n",
      "7/7 [==============================] - 0s 3ms/step - loss: 214.5096 - mean_absolute_error: 10.2907 - val_loss: 16459.1875 - val_mean_absolute_error: 117.3255 - lr: 0.0010\n",
      "Epoch 82/800\n",
      "7/7 [==============================] - 0s 3ms/step - loss: 215.1398 - mean_absolute_error: 10.4806 - val_loss: 16124.4258 - val_mean_absolute_error: 116.0785 - lr: 0.0010\n",
      "Epoch 83/800\n",
      "7/7 [==============================] - 0s 3ms/step - loss: 212.2513 - mean_absolute_error: 10.5892 - val_loss: 15504.2334 - val_mean_absolute_error: 113.7970 - lr: 0.0010\n",
      "Epoch 84/800\n",
      "7/7 [==============================] - 0s 3ms/step - loss: 199.7177 - mean_absolute_error: 10.1240 - val_loss: 15263.8232 - val_mean_absolute_error: 112.8779 - lr: 0.0010\n",
      "Epoch 85/800\n",
      "7/7 [==============================] - 0s 2ms/step - loss: 193.1359 - mean_absolute_error: 9.8585 - val_loss: 15307.1729 - val_mean_absolute_error: 113.0025 - lr: 0.0010\n",
      "Epoch 86/800\n",
      "7/7 [==============================] - 0s 3ms/step - loss: 194.9615 - mean_absolute_error: 9.8717 - val_loss: 14879.4277 - val_mean_absolute_error: 111.3911 - lr: 0.0010\n",
      "Epoch 87/800\n",
      "7/7 [==============================] - 0s 3ms/step - loss: 192.4304 - mean_absolute_error: 9.8704 - val_loss: 14659.9492 - val_mean_absolute_error: 110.5396 - lr: 0.0010\n",
      "Epoch 88/800\n",
      "7/7 [==============================] - 0s 2ms/step - loss: 182.4692 - mean_absolute_error: 9.9113 - val_loss: 14680.3955 - val_mean_absolute_error: 110.5824 - lr: 0.0010\n",
      "Epoch 89/800\n",
      "7/7 [==============================] - 0s 3ms/step - loss: 225.6984 - mean_absolute_error: 11.0275 - val_loss: 14688.6455 - val_mean_absolute_error: 110.7432 - lr: 0.0010\n",
      "Epoch 90/800\n",
      "7/7 [==============================] - 0s 8ms/step - loss: 259.3426 - mean_absolute_error: 12.2688 - val_loss: 14829.9111 - val_mean_absolute_error: 111.6953 - lr: 0.0010\n",
      "Epoch 91/800\n",
      "7/7 [==============================] - 0s 4ms/step - loss: 233.8112 - mean_absolute_error: 10.9238 - val_loss: 13707.5527 - val_mean_absolute_error: 106.7823 - lr: 0.0010\n",
      "Epoch 92/800\n",
      "7/7 [==============================] - 0s 3ms/step - loss: 182.7193 - mean_absolute_error: 9.6505 - val_loss: 13361.9482 - val_mean_absolute_error: 105.3997 - lr: 0.0010\n",
      "Epoch 93/800\n",
      "7/7 [==============================] - 0s 3ms/step - loss: 178.5872 - mean_absolute_error: 10.3328 - val_loss: 13521.1680 - val_mean_absolute_error: 106.0138 - lr: 0.0010\n",
      "Epoch 94/800\n",
      "7/7 [==============================] - 0s 4ms/step - loss: 221.8422 - mean_absolute_error: 11.0304 - val_loss: 12595.9785 - val_mean_absolute_error: 102.2401 - lr: 0.0010\n",
      "Epoch 95/800\n",
      "7/7 [==============================] - 0s 3ms/step - loss: 186.9218 - mean_absolute_error: 10.1957 - val_loss: 12543.4482 - val_mean_absolute_error: 102.0117 - lr: 0.0010\n",
      "Epoch 96/800\n",
      "7/7 [==============================] - 0s 3ms/step - loss: 174.1777 - mean_absolute_error: 9.7790 - val_loss: 12888.1973 - val_mean_absolute_error: 103.4192 - lr: 0.0010\n",
      "Epoch 97/800\n",
      "7/7 [==============================] - 0s 3ms/step - loss: 207.7030 - mean_absolute_error: 10.8965 - val_loss: 12789.6426 - val_mean_absolute_error: 102.9980 - lr: 0.0010\n",
      "Epoch 98/800\n",
      "7/7 [==============================] - 0s 3ms/step - loss: 208.3646 - mean_absolute_error: 10.8597 - val_loss: 12227.1396 - val_mean_absolute_error: 100.6531 - lr: 0.0010\n",
      "Epoch 99/800\n",
      "7/7 [==============================] - 0s 3ms/step - loss: 228.6180 - mean_absolute_error: 11.6846 - val_loss: 11583.9424 - val_mean_absolute_error: 97.8617 - lr: 0.0010\n",
      "Epoch 100/800\n",
      "7/7 [==============================] - 0s 3ms/step - loss: 204.7078 - mean_absolute_error: 10.8658 - val_loss: 11174.0918 - val_mean_absolute_error: 96.0140 - lr: 0.0010\n",
      "Epoch 101/800\n",
      "7/7 [==============================] - 0s 3ms/step - loss: 217.4152 - mean_absolute_error: 11.3512 - val_loss: 11251.8682 - val_mean_absolute_error: 96.3791 - lr: 0.0010\n",
      "Epoch 102/800\n",
      "7/7 [==============================] - 0s 3ms/step - loss: 213.1937 - mean_absolute_error: 10.8310 - val_loss: 11770.7500 - val_mean_absolute_error: 98.6661 - lr: 0.0010\n",
      "Epoch 103/800\n",
      "7/7 [==============================] - 0s 3ms/step - loss: 171.3746 - mean_absolute_error: 9.6374 - val_loss: 11716.7988 - val_mean_absolute_error: 98.4208 - lr: 0.0010\n",
      "Epoch 104/800\n",
      "7/7 [==============================] - 0s 3ms/step - loss: 163.5955 - mean_absolute_error: 9.3745 - val_loss: 10573.7441 - val_mean_absolute_error: 93.2373 - lr: 0.0010\n",
      "Epoch 105/800\n",
      "7/7 [==============================] - 0s 3ms/step - loss: 161.8630 - mean_absolute_error: 9.5880 - val_loss: 10749.2285 - val_mean_absolute_error: 94.0737 - lr: 0.0010\n",
      "Epoch 106/800\n",
      "7/7 [==============================] - 0s 3ms/step - loss: 152.2948 - mean_absolute_error: 9.2153 - val_loss: 10779.9941 - val_mean_absolute_error: 94.2183 - lr: 0.0010\n",
      "Epoch 107/800\n",
      "7/7 [==============================] - 0s 3ms/step - loss: 144.8407 - mean_absolute_error: 8.8859 - val_loss: 10766.4727 - val_mean_absolute_error: 94.1535 - lr: 0.0010\n",
      "Epoch 108/800\n",
      "7/7 [==============================] - 0s 3ms/step - loss: 147.3477 - mean_absolute_error: 8.9758 - val_loss: 10661.1357 - val_mean_absolute_error: 93.6609 - lr: 0.0010\n",
      "Epoch 109/800\n",
      "7/7 [==============================] - 0s 3ms/step - loss: 153.8746 - mean_absolute_error: 9.2551 - val_loss: 10837.9043 - val_mean_absolute_error: 94.4671 - lr: 0.0010\n",
      "Epoch 110/800\n",
      "7/7 [==============================] - 0s 3ms/step - loss: 154.8951 - mean_absolute_error: 9.6527 - val_loss: 11066.5840 - val_mean_absolute_error: 95.4848 - lr: 0.0010\n",
      "Epoch 111/800\n",
      "7/7 [==============================] - 0s 3ms/step - loss: 199.0487 - mean_absolute_error: 11.1761 - val_loss: 11287.2148 - val_mean_absolute_error: 96.4455 - lr: 0.0010\n",
      "Epoch 112/800\n",
      "7/7 [==============================] - 0s 3ms/step - loss: 200.7011 - mean_absolute_error: 10.9594 - val_loss: 11178.6074 - val_mean_absolute_error: 95.9654 - lr: 0.0010\n",
      "Epoch 113/800\n",
      "7/7 [==============================] - 0s 3ms/step - loss: 204.9379 - mean_absolute_error: 11.2163 - val_loss: 10615.0742 - val_mean_absolute_error: 93.4356 - lr: 0.0010\n",
      "Epoch 114/800\n",
      "7/7 [==============================] - 0s 3ms/step - loss: 172.5710 - mean_absolute_error: 9.6776 - val_loss: 10406.6289 - val_mean_absolute_error: 92.4747 - lr: 0.0010\n",
      "Epoch 115/800\n",
      "7/7 [==============================] - 0s 3ms/step - loss: 167.9187 - mean_absolute_error: 9.6525 - val_loss: 9776.0830 - val_mean_absolute_error: 89.4532 - lr: 0.0010\n",
      "Epoch 116/800\n",
      "7/7 [==============================] - 0s 3ms/step - loss: 153.7366 - mean_absolute_error: 9.4105 - val_loss: 9989.0586 - val_mean_absolute_error: 90.4983 - lr: 0.0010\n",
      "Epoch 117/800\n",
      "7/7 [==============================] - 0s 3ms/step - loss: 153.5198 - mean_absolute_error: 9.4354 - val_loss: 10002.1016 - val_mean_absolute_error: 90.5557 - lr: 0.0010\n",
      "Epoch 118/800\n",
      "7/7 [==============================] - 0s 3ms/step - loss: 169.4752 - mean_absolute_error: 9.6302 - val_loss: 10258.4082 - val_mean_absolute_error: 91.7613 - lr: 0.0010\n",
      "Epoch 119/800\n",
      "7/7 [==============================] - 0s 3ms/step - loss: 178.6034 - mean_absolute_error: 10.5094 - val_loss: 10396.8545 - val_mean_absolute_error: 92.3966 - lr: 0.0010\n",
      "Epoch 120/800\n",
      "7/7 [==============================] - 0s 3ms/step - loss: 187.5502 - mean_absolute_error: 10.1767 - val_loss: 9363.5742 - val_mean_absolute_error: 87.3939 - lr: 0.0010\n",
      "Epoch 121/800\n",
      "7/7 [==============================] - 0s 3ms/step - loss: 181.6874 - mean_absolute_error: 10.2099 - val_loss: 8600.3350 - val_mean_absolute_error: 83.3363 - lr: 0.0010\n",
      "Epoch 122/800\n",
      "7/7 [==============================] - 0s 3ms/step - loss: 235.2883 - mean_absolute_error: 11.8262 - val_loss: 8369.1602 - val_mean_absolute_error: 82.0267 - lr: 0.0010\n",
      "Epoch 123/800\n",
      "7/7 [==============================] - 0s 3ms/step - loss: 205.5644 - mean_absolute_error: 10.8461 - val_loss: 8672.9121 - val_mean_absolute_error: 83.7759 - lr: 0.0010\n",
      "Epoch 124/800\n",
      "7/7 [==============================] - 0s 3ms/step - loss: 202.6279 - mean_absolute_error: 11.0065 - val_loss: 8954.4229 - val_mean_absolute_error: 85.3124 - lr: 0.0010\n",
      "Epoch 125/800\n",
      "7/7 [==============================] - 0s 3ms/step - loss: 179.0302 - mean_absolute_error: 10.2900 - val_loss: 9166.7900 - val_mean_absolute_error: 86.4217 - lr: 0.0010\n",
      "Epoch 126/800\n",
      "7/7 [==============================] - 0s 3ms/step - loss: 148.7400 - mean_absolute_error: 9.1599 - val_loss: 8953.2061 - val_mean_absolute_error: 85.3179 - lr: 0.0010\n",
      "Epoch 127/800\n",
      "7/7 [==============================] - 0s 2ms/step - loss: 140.8665 - mean_absolute_error: 9.0410 - val_loss: 8789.7207 - val_mean_absolute_error: 84.4592 - lr: 0.0010\n",
      "Epoch 128/800\n",
      "7/7 [==============================] - 0s 7ms/step - loss: 158.3445 - mean_absolute_error: 9.3997 - val_loss: 8807.0273 - val_mean_absolute_error: 84.5551 - lr: 0.0010\n",
      "Epoch 129/800\n",
      "7/7 [==============================] - 0s 5ms/step - loss: 163.0150 - mean_absolute_error: 9.5822 - val_loss: 9410.9199 - val_mean_absolute_error: 87.6575 - lr: 0.0010\n",
      "Epoch 130/800\n",
      "7/7 [==============================] - 0s 5ms/step - loss: 159.2102 - mean_absolute_error: 9.2590 - val_loss: 9097.8857 - val_mean_absolute_error: 86.0803 - lr: 0.0010\n",
      "Epoch 131/800\n",
      "7/7 [==============================] - 0s 3ms/step - loss: 163.0922 - mean_absolute_error: 9.8539 - val_loss: 8631.7871 - val_mean_absolute_error: 83.6404 - lr: 0.0010\n",
      "Epoch 132/800\n",
      "7/7 [==============================] - 0s 3ms/step - loss: 148.1784 - mean_absolute_error: 9.2223 - val_loss: 8616.3301 - val_mean_absolute_error: 83.5651 - lr: 0.0010\n",
      "Epoch 133/800\n",
      "7/7 [==============================] - 0s 3ms/step - loss: 152.2942 - mean_absolute_error: 8.9246 - val_loss: 8267.9727 - val_mean_absolute_error: 81.6576 - lr: 0.0010\n",
      "Epoch 134/800\n",
      "7/7 [==============================] - 0s 3ms/step - loss: 152.3188 - mean_absolute_error: 9.0971 - val_loss: 7944.0381 - val_mean_absolute_error: 79.7995 - lr: 0.0010\n",
      "Epoch 135/800\n",
      "7/7 [==============================] - 0s 3ms/step - loss: 159.7404 - mean_absolute_error: 9.4704 - val_loss: 8411.0635 - val_mean_absolute_error: 82.4742 - lr: 0.0010\n",
      "Epoch 136/800\n",
      "7/7 [==============================] - 0s 3ms/step - loss: 140.6982 - mean_absolute_error: 8.8654 - val_loss: 8699.7285 - val_mean_absolute_error: 84.0371 - lr: 0.0010\n",
      "Epoch 137/800\n",
      "7/7 [==============================] - 0s 3ms/step - loss: 152.5255 - mean_absolute_error: 9.3357 - val_loss: 7935.9585 - val_mean_absolute_error: 79.7954 - lr: 0.0010\n",
      "Epoch 138/800\n",
      "7/7 [==============================] - 0s 3ms/step - loss: 151.8056 - mean_absolute_error: 9.3188 - val_loss: 8108.5913 - val_mean_absolute_error: 80.8065 - lr: 0.0010\n",
      "Epoch 139/800\n",
      "7/7 [==============================] - 0s 3ms/step - loss: 166.1810 - mean_absolute_error: 10.1144 - val_loss: 8348.5830 - val_mean_absolute_error: 82.1592 - lr: 0.0010\n",
      "Epoch 140/800\n",
      "7/7 [==============================] - 0s 3ms/step - loss: 145.8121 - mean_absolute_error: 8.8796 - val_loss: 8504.5098 - val_mean_absolute_error: 83.0025 - lr: 0.0010\n",
      "Epoch 141/800\n",
      "7/7 [==============================] - 0s 3ms/step - loss: 162.2429 - mean_absolute_error: 9.7156 - val_loss: 8957.1172 - val_mean_absolute_error: 85.3655 - lr: 0.0010\n",
      "Epoch 142/800\n",
      "7/7 [==============================] - 0s 3ms/step - loss: 161.2063 - mean_absolute_error: 9.5869 - val_loss: 8199.9863 - val_mean_absolute_error: 81.3417 - lr: 0.0010\n",
      "Epoch 143/800\n",
      "7/7 [==============================] - 0s 2ms/step - loss: 137.5515 - mean_absolute_error: 8.6372 - val_loss: 8374.6230 - val_mean_absolute_error: 82.3045 - lr: 0.0010\n",
      "Epoch 144/800\n",
      "7/7 [==============================] - 0s 3ms/step - loss: 154.5117 - mean_absolute_error: 9.2488 - val_loss: 8359.3467 - val_mean_absolute_error: 82.2261 - lr: 0.0010\n",
      "Epoch 145/800\n",
      "7/7 [==============================] - 0s 3ms/step - loss: 142.7058 - mean_absolute_error: 8.7753 - val_loss: 8055.1401 - val_mean_absolute_error: 80.5452 - lr: 0.0010\n",
      "Epoch 146/800\n",
      "7/7 [==============================] - 0s 3ms/step - loss: 140.0157 - mean_absolute_error: 8.7470 - val_loss: 7849.0493 - val_mean_absolute_error: 79.3793 - lr: 0.0010\n",
      "Epoch 147/800\n",
      "7/7 [==============================] - 0s 3ms/step - loss: 164.3506 - mean_absolute_error: 9.8069 - val_loss: 8366.7793 - val_mean_absolute_error: 82.2762 - lr: 0.0010\n",
      "Epoch 148/800\n",
      "7/7 [==============================] - 0s 3ms/step - loss: 148.4265 - mean_absolute_error: 9.1857 - val_loss: 8571.7695 - val_mean_absolute_error: 83.3685 - lr: 0.0010\n",
      "Epoch 149/800\n",
      "7/7 [==============================] - 0s 3ms/step - loss: 179.0118 - mean_absolute_error: 10.5018 - val_loss: 8753.8008 - val_mean_absolute_error: 84.3189 - lr: 0.0010\n",
      "Epoch 150/800\n",
      "7/7 [==============================] - 0s 3ms/step - loss: 166.4786 - mean_absolute_error: 9.8580 - val_loss: 8317.3389 - val_mean_absolute_error: 82.0204 - lr: 0.0010\n",
      "Epoch 151/800\n",
      "7/7 [==============================] - 0s 3ms/step - loss: 151.3533 - mean_absolute_error: 9.3750 - val_loss: 7854.8257 - val_mean_absolute_error: 79.4505 - lr: 0.0010\n",
      "Epoch 152/800\n",
      "7/7 [==============================] - 0s 3ms/step - loss: 145.9330 - mean_absolute_error: 9.1261 - val_loss: 7598.1880 - val_mean_absolute_error: 77.9504 - lr: 0.0010\n",
      "Epoch 153/800\n",
      "7/7 [==============================] - 0s 3ms/step - loss: 151.8214 - mean_absolute_error: 9.4801 - val_loss: 7577.2988 - val_mean_absolute_error: 77.8349 - lr: 0.0010\n",
      "Epoch 154/800\n",
      "7/7 [==============================] - 0s 3ms/step - loss: 168.5892 - mean_absolute_error: 9.4100 - val_loss: 7455.9619 - val_mean_absolute_error: 77.1143 - lr: 0.0010\n",
      "Epoch 155/800\n",
      "7/7 [==============================] - 0s 3ms/step - loss: 155.0649 - mean_absolute_error: 9.6101 - val_loss: 7420.2896 - val_mean_absolute_error: 76.9036 - lr: 0.0010\n",
      "Epoch 156/800\n",
      "7/7 [==============================] - 0s 3ms/step - loss: 169.7635 - mean_absolute_error: 10.0219 - val_loss: 7533.3550 - val_mean_absolute_error: 77.5988 - lr: 0.0010\n",
      "Epoch 157/800\n",
      "7/7 [==============================] - 0s 3ms/step - loss: 166.3254 - mean_absolute_error: 9.8335 - val_loss: 8508.4014 - val_mean_absolute_error: 83.0427 - lr: 0.0010\n",
      "Epoch 158/800\n",
      "7/7 [==============================] - 0s 3ms/step - loss: 182.5626 - mean_absolute_error: 9.8041 - val_loss: 8598.6367 - val_mean_absolute_error: 83.5068 - lr: 0.0010\n",
      "Epoch 159/800\n",
      "7/7 [==============================] - 0s 3ms/step - loss: 178.5932 - mean_absolute_error: 10.1399 - val_loss: 7877.5059 - val_mean_absolute_error: 79.6082 - lr: 0.0010\n",
      "Epoch 160/800\n",
      "7/7 [==============================] - 0s 3ms/step - loss: 136.4744 - mean_absolute_error: 8.7850 - val_loss: 7925.0444 - val_mean_absolute_error: 79.8812 - lr: 0.0010\n",
      "Epoch 161/800\n",
      "7/7 [==============================] - 0s 3ms/step - loss: 141.2046 - mean_absolute_error: 8.7772 - val_loss: 8409.9102 - val_mean_absolute_error: 82.5171 - lr: 0.0010\n",
      "Epoch 162/800\n",
      "7/7 [==============================] - 0s 3ms/step - loss: 161.9452 - mean_absolute_error: 9.7409 - val_loss: 7424.3853 - val_mean_absolute_error: 76.9736 - lr: 0.0010\n",
      "Epoch 163/800\n",
      "7/7 [==============================] - 0s 3ms/step - loss: 163.0420 - mean_absolute_error: 9.7226 - val_loss: 7388.4009 - val_mean_absolute_error: 76.7628 - lr: 0.0010\n",
      "Epoch 164/800\n",
      "7/7 [==============================] - 0s 8ms/step - loss: 153.9031 - mean_absolute_error: 9.3715 - val_loss: 7143.6089 - val_mean_absolute_error: 75.2572 - lr: 0.0010\n",
      "Epoch 165/800\n",
      "7/7 [==============================] - 0s 4ms/step - loss: 165.9732 - mean_absolute_error: 9.2321 - val_loss: 7340.7754 - val_mean_absolute_error: 76.4934 - lr: 0.0010\n",
      "Epoch 166/800\n",
      "7/7 [==============================] - 0s 3ms/step - loss: 178.9587 - mean_absolute_error: 10.3209 - val_loss: 7342.9746 - val_mean_absolute_error: 76.5102 - lr: 0.0010\n",
      "Epoch 167/800\n",
      "7/7 [==============================] - 0s 3ms/step - loss: 164.2980 - mean_absolute_error: 9.6176 - val_loss: 7685.6792 - val_mean_absolute_error: 78.5456 - lr: 0.0010\n",
      "Epoch 168/800\n",
      "7/7 [==============================] - 0s 3ms/step - loss: 137.6488 - mean_absolute_error: 8.8010 - val_loss: 7233.4868 - val_mean_absolute_error: 75.8477 - lr: 0.0010\n",
      "Epoch 169/800\n",
      "7/7 [==============================] - 0s 3ms/step - loss: 163.9200 - mean_absolute_error: 9.6773 - val_loss: 7347.5806 - val_mean_absolute_error: 76.5543 - lr: 0.0010\n",
      "Epoch 170/800\n",
      "7/7 [==============================] - 0s 3ms/step - loss: 171.4287 - mean_absolute_error: 10.0145 - val_loss: 7506.7769 - val_mean_absolute_error: 77.5085 - lr: 0.0010\n",
      "Epoch 171/800\n",
      "7/7 [==============================] - 0s 3ms/step - loss: 145.6462 - mean_absolute_error: 8.7445 - val_loss: 7547.9331 - val_mean_absolute_error: 77.7443 - lr: 0.0010\n",
      "Epoch 172/800\n",
      "7/7 [==============================] - 0s 3ms/step - loss: 151.6296 - mean_absolute_error: 9.3767 - val_loss: 7529.9355 - val_mean_absolute_error: 77.6489 - lr: 0.0010\n",
      "Epoch 173/800\n",
      "7/7 [==============================] - 0s 3ms/step - loss: 160.9574 - mean_absolute_error: 9.7562 - val_loss: 8003.2734 - val_mean_absolute_error: 80.3454 - lr: 0.0010\n",
      "Epoch 174/800\n",
      "7/7 [==============================] - 0s 3ms/step - loss: 150.3750 - mean_absolute_error: 9.1332 - val_loss: 7593.6479 - val_mean_absolute_error: 78.0421 - lr: 0.0010\n",
      "Epoch 175/800\n",
      "7/7 [==============================] - 0s 3ms/step - loss: 156.6783 - mean_absolute_error: 9.0445 - val_loss: 8152.0244 - val_mean_absolute_error: 81.1526 - lr: 0.0010\n",
      "Epoch 176/800\n",
      "7/7 [==============================] - 0s 3ms/step - loss: 165.4603 - mean_absolute_error: 9.6240 - val_loss: 7994.0986 - val_mean_absolute_error: 80.2848 - lr: 0.0010\n",
      "Epoch 177/800\n",
      "7/7 [==============================] - 0s 3ms/step - loss: 174.6484 - mean_absolute_error: 10.0725 - val_loss: 7427.0054 - val_mean_absolute_error: 77.0495 - lr: 0.0010\n",
      "Epoch 178/800\n",
      "7/7 [==============================] - 0s 3ms/step - loss: 162.9752 - mean_absolute_error: 9.7753 - val_loss: 7160.4375 - val_mean_absolute_error: 75.4347 - lr: 0.0010\n",
      "Epoch 179/800\n",
      "7/7 [==============================] - 0s 3ms/step - loss: 162.8143 - mean_absolute_error: 9.3788 - val_loss: 6898.9463 - val_mean_absolute_error: 73.7762 - lr: 0.0010\n",
      "Epoch 180/800\n",
      "7/7 [==============================] - 0s 4ms/step - loss: 146.0190 - mean_absolute_error: 9.2204 - val_loss: 7608.7441 - val_mean_absolute_error: 78.1317 - lr: 0.0010\n",
      "Epoch 181/800\n",
      "7/7 [==============================] - 0s 3ms/step - loss: 159.8676 - mean_absolute_error: 9.3028 - val_loss: 7889.3975 - val_mean_absolute_error: 79.7248 - lr: 0.0010\n",
      "Epoch 182/800\n",
      "7/7 [==============================] - 0s 3ms/step - loss: 200.7643 - mean_absolute_error: 10.6564 - val_loss: 9113.6572 - val_mean_absolute_error: 86.0624 - lr: 0.0010\n",
      "Epoch 183/800\n",
      "7/7 [==============================] - 0s 2ms/step - loss: 192.6803 - mean_absolute_error: 10.3875 - val_loss: 8276.9023 - val_mean_absolute_error: 81.8206 - lr: 0.0010\n",
      "Epoch 184/800\n",
      "7/7 [==============================] - 0s 3ms/step - loss: 169.1073 - mean_absolute_error: 9.4645 - val_loss: 7155.9458 - val_mean_absolute_error: 75.4459 - lr: 0.0010\n",
      "Epoch 185/800\n",
      "7/7 [==============================] - 0s 3ms/step - loss: 160.4203 - mean_absolute_error: 9.6666 - val_loss: 6918.0186 - val_mean_absolute_error: 73.9579 - lr: 0.0010\n",
      "Epoch 186/800\n",
      "7/7 [==============================] - 0s 3ms/step - loss: 168.0882 - mean_absolute_error: 9.7271 - val_loss: 7135.4722 - val_mean_absolute_error: 75.3149 - lr: 0.0010\n",
      "Epoch 187/800\n",
      "7/7 [==============================] - 0s 3ms/step - loss: 141.8755 - mean_absolute_error: 8.8503 - val_loss: 7588.3442 - val_mean_absolute_error: 78.0220 - lr: 0.0010\n",
      "Epoch 188/800\n",
      "7/7 [==============================] - 0s 3ms/step - loss: 147.6688 - mean_absolute_error: 9.1319 - val_loss: 7838.3740 - val_mean_absolute_error: 79.4320 - lr: 0.0010\n",
      "Epoch 189/800\n",
      "7/7 [==============================] - 0s 3ms/step - loss: 179.4001 - mean_absolute_error: 10.3059 - val_loss: 7642.7222 - val_mean_absolute_error: 78.3445 - lr: 0.0010\n",
      "Epoch 190/800\n",
      "7/7 [==============================] - 0s 3ms/step - loss: 161.2656 - mean_absolute_error: 9.7152 - val_loss: 7458.1572 - val_mean_absolute_error: 77.2766 - lr: 0.0010\n",
      "Epoch 191/800\n",
      "7/7 [==============================] - 0s 3ms/step - loss: 146.0951 - mean_absolute_error: 8.9071 - val_loss: 7138.4194 - val_mean_absolute_error: 75.3587 - lr: 0.0010\n",
      "Epoch 192/800\n",
      "7/7 [==============================] - 0s 3ms/step - loss: 146.8142 - mean_absolute_error: 9.1345 - val_loss: 7079.1465 - val_mean_absolute_error: 74.9848 - lr: 0.0010\n",
      "Epoch 193/800\n",
      "7/7 [==============================] - 0s 3ms/step - loss: 148.2530 - mean_absolute_error: 9.1855 - val_loss: 6823.2500 - val_mean_absolute_error: 73.3563 - lr: 0.0010\n",
      "Epoch 194/800\n",
      "7/7 [==============================] - 0s 3ms/step - loss: 195.4588 - mean_absolute_error: 10.3663 - val_loss: 7666.4463 - val_mean_absolute_error: 78.4753 - lr: 0.0010\n",
      "Epoch 195/800\n",
      "7/7 [==============================] - 0s 3ms/step - loss: 165.4925 - mean_absolute_error: 9.5510 - val_loss: 7526.1978 - val_mean_absolute_error: 77.6649 - lr: 0.0010\n",
      "Epoch 196/800\n",
      "7/7 [==============================] - 0s 3ms/step - loss: 172.8304 - mean_absolute_error: 10.1347 - val_loss: 7775.6948 - val_mean_absolute_error: 79.0956 - lr: 0.0010\n",
      "Epoch 197/800\n",
      "7/7 [==============================] - 0s 6ms/step - loss: 138.2474 - mean_absolute_error: 8.7513 - val_loss: 7801.8726 - val_mean_absolute_error: 79.2384 - lr: 0.0010\n",
      "Epoch 198/800\n",
      "7/7 [==============================] - 0s 4ms/step - loss: 148.8766 - mean_absolute_error: 9.1661 - val_loss: 7771.7935 - val_mean_absolute_error: 79.0797 - lr: 0.0010\n",
      "Epoch 199/800\n",
      "7/7 [==============================] - 0s 4ms/step - loss: 157.1186 - mean_absolute_error: 9.4431 - val_loss: 7401.5493 - val_mean_absolute_error: 76.9572 - lr: 0.0010\n",
      "Epoch 200/800\n",
      "7/7 [==============================] - 0s 3ms/step - loss: 144.9712 - mean_absolute_error: 8.9429 - val_loss: 7958.6069 - val_mean_absolute_error: 80.1116 - lr: 0.0010\n",
      "Epoch 201/800\n",
      "7/7 [==============================] - 0s 3ms/step - loss: 144.9362 - mean_absolute_error: 8.8994 - val_loss: 7261.2075 - val_mean_absolute_error: 76.1302 - lr: 0.0010\n",
      "Epoch 202/800\n",
      "7/7 [==============================] - 0s 3ms/step - loss: 136.9356 - mean_absolute_error: 8.6285 - val_loss: 7292.7339 - val_mean_absolute_error: 76.3212 - lr: 0.0010\n",
      "Epoch 203/800\n",
      "7/7 [==============================] - 0s 3ms/step - loss: 133.4971 - mean_absolute_error: 8.6987 - val_loss: 7669.2471 - val_mean_absolute_error: 78.5121 - lr: 0.0010\n",
      "Epoch 204/800\n",
      "7/7 [==============================] - 0s 3ms/step - loss: 164.9952 - mean_absolute_error: 9.8103 - val_loss: 7115.8506 - val_mean_absolute_error: 75.2561 - lr: 0.0010\n",
      "Epoch 205/800\n",
      "7/7 [==============================] - 0s 3ms/step - loss: 135.2649 - mean_absolute_error: 8.5385 - val_loss: 6968.3081 - val_mean_absolute_error: 74.3340 - lr: 0.0010\n",
      "Epoch 206/800\n",
      "7/7 [==============================] - 0s 3ms/step - loss: 143.1489 - mean_absolute_error: 8.7709 - val_loss: 6769.2451 - val_mean_absolute_error: 73.0744 - lr: 0.0010\n",
      "Epoch 207/800\n",
      "7/7 [==============================] - 0s 3ms/step - loss: 149.7405 - mean_absolute_error: 9.0497 - val_loss: 7419.6382 - val_mean_absolute_error: 77.0736 - lr: 0.0010\n",
      "Epoch 208/800\n",
      "7/7 [==============================] - 0s 3ms/step - loss: 160.1637 - mean_absolute_error: 9.3650 - val_loss: 7633.1387 - val_mean_absolute_error: 78.3048 - lr: 0.0010\n",
      "Epoch 209/800\n",
      "7/7 [==============================] - 0s 3ms/step - loss: 147.1395 - mean_absolute_error: 8.9680 - val_loss: 6971.4014 - val_mean_absolute_error: 74.3538 - lr: 0.0010\n",
      "Epoch 210/800\n",
      "7/7 [==============================] - 0s 3ms/step - loss: 158.8905 - mean_absolute_error: 9.8670 - val_loss: 7010.4629 - val_mean_absolute_error: 74.6123 - lr: 0.0010\n",
      "Epoch 211/800\n",
      "7/7 [==============================] - 0s 3ms/step - loss: 148.9470 - mean_absolute_error: 8.9259 - val_loss: 6920.9292 - val_mean_absolute_error: 74.0508 - lr: 0.0010\n",
      "Epoch 212/800\n",
      "7/7 [==============================] - 0s 3ms/step - loss: 130.1663 - mean_absolute_error: 8.4979 - val_loss: 7051.7710 - val_mean_absolute_error: 74.8788 - lr: 0.0010\n",
      "Epoch 213/800\n",
      "7/7 [==============================] - 0s 3ms/step - loss: 151.0938 - mean_absolute_error: 9.1495 - val_loss: 6710.7256 - val_mean_absolute_error: 72.7149 - lr: 0.0010\n",
      "Epoch 214/800\n",
      "7/7 [==============================] - 0s 3ms/step - loss: 156.0816 - mean_absolute_error: 9.3078 - val_loss: 6640.0679 - val_mean_absolute_error: 72.2496 - lr: 0.0010\n",
      "Epoch 215/800\n",
      "7/7 [==============================] - 0s 3ms/step - loss: 157.6535 - mean_absolute_error: 9.2230 - val_loss: 6662.2075 - val_mean_absolute_error: 72.4067 - lr: 0.0010\n",
      "Epoch 216/800\n",
      "7/7 [==============================] - 0s 3ms/step - loss: 145.4111 - mean_absolute_error: 9.0591 - val_loss: 6711.1797 - val_mean_absolute_error: 72.7222 - lr: 0.0010\n",
      "Epoch 217/800\n",
      "7/7 [==============================] - 0s 3ms/step - loss: 158.3599 - mean_absolute_error: 9.4078 - val_loss: 6596.6582 - val_mean_absolute_error: 71.9902 - lr: 0.0010\n",
      "Epoch 218/800\n",
      "7/7 [==============================] - 0s 3ms/step - loss: 152.7446 - mean_absolute_error: 9.4052 - val_loss: 7521.8613 - val_mean_absolute_error: 77.6851 - lr: 0.0010\n",
      "Epoch 219/800\n",
      "7/7 [==============================] - 0s 3ms/step - loss: 167.8271 - mean_absolute_error: 9.7352 - val_loss: 7505.9731 - val_mean_absolute_error: 77.6119 - lr: 0.0010\n",
      "Epoch 220/800\n",
      "7/7 [==============================] - 0s 3ms/step - loss: 150.3130 - mean_absolute_error: 9.2631 - val_loss: 6689.2754 - val_mean_absolute_error: 72.5998 - lr: 0.0010\n",
      "Epoch 221/800\n",
      "7/7 [==============================] - 0s 3ms/step - loss: 149.5717 - mean_absolute_error: 9.1462 - val_loss: 6855.5630 - val_mean_absolute_error: 73.6875 - lr: 0.0010\n",
      "Epoch 222/800\n",
      "7/7 [==============================] - 0s 3ms/step - loss: 148.4718 - mean_absolute_error: 8.9746 - val_loss: 6966.3613 - val_mean_absolute_error: 74.3909 - lr: 0.0010\n",
      "Epoch 223/800\n",
      "7/7 [==============================] - 0s 3ms/step - loss: 146.0030 - mean_absolute_error: 8.9357 - val_loss: 7096.5186 - val_mean_absolute_error: 75.1850 - lr: 0.0010\n",
      "Epoch 224/800\n",
      "7/7 [==============================] - 0s 3ms/step - loss: 161.1765 - mean_absolute_error: 9.6659 - val_loss: 7262.4902 - val_mean_absolute_error: 76.1843 - lr: 0.0010\n",
      "Epoch 225/800\n",
      "7/7 [==============================] - 0s 3ms/step - loss: 161.6822 - mean_absolute_error: 9.5988 - val_loss: 7515.9121 - val_mean_absolute_error: 77.6575 - lr: 0.0010\n",
      "Epoch 226/800\n",
      "7/7 [==============================] - 0s 3ms/step - loss: 164.3872 - mean_absolute_error: 9.8069 - val_loss: 7764.2373 - val_mean_absolute_error: 79.0561 - lr: 0.0010\n",
      "Epoch 227/800\n",
      "7/7 [==============================] - 0s 3ms/step - loss: 153.0697 - mean_absolute_error: 9.3125 - val_loss: 7051.7378 - val_mean_absolute_error: 74.9105 - lr: 0.0010\n",
      "Epoch 228/800\n",
      "7/7 [==============================] - 0s 3ms/step - loss: 135.3627 - mean_absolute_error: 8.6489 - val_loss: 6896.7520 - val_mean_absolute_error: 73.9580 - lr: 0.0010\n",
      "Epoch 229/800\n",
      "7/7 [==============================] - 0s 6ms/step - loss: 139.6652 - mean_absolute_error: 8.7144 - val_loss: 7049.0161 - val_mean_absolute_error: 74.8999 - lr: 0.0010\n",
      "Epoch 230/800\n",
      "7/7 [==============================] - 0s 4ms/step - loss: 141.6208 - mean_absolute_error: 8.9303 - val_loss: 7119.6953 - val_mean_absolute_error: 75.3494 - lr: 0.0010\n",
      "Epoch 231/800\n",
      "7/7 [==============================] - 0s 4ms/step - loss: 137.6923 - mean_absolute_error: 8.7034 - val_loss: 7386.4277 - val_mean_absolute_error: 76.9338 - lr: 0.0010\n",
      "Epoch 232/800\n",
      "7/7 [==============================] - 0s 3ms/step - loss: 133.0142 - mean_absolute_error: 8.4374 - val_loss: 7083.5449 - val_mean_absolute_error: 75.1287 - lr: 0.0010\n",
      "Epoch 233/800\n",
      "7/7 [==============================] - 0s 4ms/step - loss: 135.4224 - mean_absolute_error: 8.6006 - val_loss: 7588.0132 - val_mean_absolute_error: 78.0731 - lr: 0.0010\n",
      "Epoch 234/800\n",
      "7/7 [==============================] - 0s 3ms/step - loss: 144.6388 - mean_absolute_error: 8.9494 - val_loss: 7066.7744 - val_mean_absolute_error: 75.0176 - lr: 0.0010\n",
      "Epoch 235/800\n",
      "7/7 [==============================] - 0s 3ms/step - loss: 141.2874 - mean_absolute_error: 8.8145 - val_loss: 6850.8955 - val_mean_absolute_error: 73.6829 - lr: 0.0010\n",
      "Epoch 236/800\n",
      "7/7 [==============================] - 0s 3ms/step - loss: 147.6409 - mean_absolute_error: 9.3360 - val_loss: 6644.2646 - val_mean_absolute_error: 72.3827 - lr: 0.0010\n",
      "Epoch 237/800\n",
      "7/7 [==============================] - 0s 3ms/step - loss: 184.8861 - mean_absolute_error: 10.4277 - val_loss: 6384.1611 - val_mean_absolute_error: 70.6052 - lr: 0.0010\n",
      "Epoch 238/800\n",
      "7/7 [==============================] - 0s 3ms/step - loss: 145.0850 - mean_absolute_error: 9.2049 - val_loss: 6641.0581 - val_mean_absolute_error: 72.3456 - lr: 0.0010\n",
      "Epoch 239/800\n",
      "7/7 [==============================] - 0s 3ms/step - loss: 143.3015 - mean_absolute_error: 8.8106 - val_loss: 6727.5571 - val_mean_absolute_error: 72.9149 - lr: 0.0010\n",
      "Epoch 240/800\n",
      "7/7 [==============================] - 0s 2ms/step - loss: 132.3291 - mean_absolute_error: 8.6600 - val_loss: 6732.3628 - val_mean_absolute_error: 72.9578 - lr: 0.0010\n",
      "Epoch 241/800\n",
      "7/7 [==============================] - 0s 2ms/step - loss: 142.8081 - mean_absolute_error: 8.8344 - val_loss: 6602.0723 - val_mean_absolute_error: 72.0970 - lr: 0.0010\n",
      "Epoch 242/800\n",
      "7/7 [==============================] - 0s 3ms/step - loss: 148.8846 - mean_absolute_error: 8.9698 - val_loss: 7127.6304 - val_mean_absolute_error: 75.4129 - lr: 0.0010\n",
      "Epoch 243/800\n",
      "7/7 [==============================] - 0s 3ms/step - loss: 158.5564 - mean_absolute_error: 9.4620 - val_loss: 6650.9585 - val_mean_absolute_error: 72.4237 - lr: 0.0010\n",
      "Epoch 244/800\n",
      "7/7 [==============================] - 0s 3ms/step - loss: 143.3402 - mean_absolute_error: 9.0129 - val_loss: 6803.6113 - val_mean_absolute_error: 73.4077 - lr: 0.0010\n",
      "Epoch 245/800\n",
      "7/7 [==============================] - 0s 3ms/step - loss: 135.2762 - mean_absolute_error: 8.5752 - val_loss: 6453.5806 - val_mean_absolute_error: 71.1186 - lr: 0.0010\n",
      "Epoch 246/800\n",
      "7/7 [==============================] - 0s 3ms/step - loss: 152.7508 - mean_absolute_error: 9.3273 - val_loss: 6960.5366 - val_mean_absolute_error: 74.4201 - lr: 0.0010\n",
      "Epoch 247/800\n",
      "7/7 [==============================] - 0s 3ms/step - loss: 143.1300 - mean_absolute_error: 8.8064 - val_loss: 6700.4121 - val_mean_absolute_error: 72.7500 - lr: 0.0010\n",
      "Epoch 248/800\n",
      "7/7 [==============================] - 0s 3ms/step - loss: 151.0321 - mean_absolute_error: 9.2635 - val_loss: 6825.4565 - val_mean_absolute_error: 73.5523 - lr: 0.0010\n",
      "Epoch 249/800\n",
      "7/7 [==============================] - 0s 3ms/step - loss: 149.4876 - mean_absolute_error: 9.2458 - val_loss: 6542.0254 - val_mean_absolute_error: 71.7300 - lr: 0.0010\n",
      "Epoch 250/800\n",
      "7/7 [==============================] - 0s 2ms/step - loss: 150.0854 - mean_absolute_error: 9.0890 - val_loss: 6597.0303 - val_mean_absolute_error: 72.1181 - lr: 0.0010\n",
      "Epoch 251/800\n",
      "7/7 [==============================] - 0s 3ms/step - loss: 170.2113 - mean_absolute_error: 9.8608 - val_loss: 6610.6074 - val_mean_absolute_error: 72.1978 - lr: 0.0010\n",
      "Epoch 252/800\n",
      "7/7 [==============================] - 0s 3ms/step - loss: 158.1521 - mean_absolute_error: 9.6255 - val_loss: 6855.2739 - val_mean_absolute_error: 73.7565 - lr: 0.0010\n",
      "Epoch 253/800\n",
      "7/7 [==============================] - 0s 3ms/step - loss: 147.0748 - mean_absolute_error: 9.1577 - val_loss: 7126.2393 - val_mean_absolute_error: 75.4010 - lr: 0.0010\n",
      "Epoch 254/800\n",
      "7/7 [==============================] - 0s 3ms/step - loss: 137.6906 - mean_absolute_error: 8.7537 - val_loss: 6436.5913 - val_mean_absolute_error: 71.0419 - lr: 0.0010\n",
      "Epoch 255/800\n",
      "7/7 [==============================] - 0s 3ms/step - loss: 136.4070 - mean_absolute_error: 8.8758 - val_loss: 6722.6172 - val_mean_absolute_error: 72.9382 - lr: 0.0010\n",
      "Epoch 256/800\n",
      "7/7 [==============================] - 0s 3ms/step - loss: 135.6646 - mean_absolute_error: 8.7706 - val_loss: 6660.7422 - val_mean_absolute_error: 72.5319 - lr: 0.0010\n",
      "Epoch 257/800\n",
      "7/7 [==============================] - 0s 3ms/step - loss: 140.8522 - mean_absolute_error: 8.8468 - val_loss: 7090.0776 - val_mean_absolute_error: 75.2038 - lr: 0.0010\n",
      "Epoch 258/800\n",
      "7/7 [==============================] - 0s 4ms/step - loss: 139.2995 - mean_absolute_error: 8.9013 - val_loss: 6988.0615 - val_mean_absolute_error: 74.5892 - lr: 0.0010\n",
      "Epoch 259/800\n",
      "7/7 [==============================] - 0s 9ms/step - loss: 140.9607 - mean_absolute_error: 8.8126 - val_loss: 6776.9087 - val_mean_absolute_error: 73.2577 - lr: 0.0010\n",
      "Epoch 260/800\n",
      "7/7 [==============================] - 0s 6ms/step - loss: 139.7493 - mean_absolute_error: 8.5402 - val_loss: 7128.2778 - val_mean_absolute_error: 75.4400 - lr: 0.0010\n",
      "Epoch 261/800\n",
      "7/7 [==============================] - 0s 4ms/step - loss: 144.6734 - mean_absolute_error: 9.1254 - val_loss: 6786.6479 - val_mean_absolute_error: 73.3319 - lr: 0.0010\n",
      "Epoch 262/800\n",
      "1/7 [===>..........................] - ETA: 0s - loss: 135.3720 - mean_absolute_error: 9.2834Restoring model weights from the end of the best epoch: 237.\n",
      "\n",
      "Epoch 262: ReduceLROnPlateau reducing learning rate to 0.0005000000237487257.\n",
      "7/7 [==============================] - 0s 4ms/step - loss: 142.5283 - mean_absolute_error: 8.8547 - val_loss: 6536.0713 - val_mean_absolute_error: 71.7278 - lr: 0.0010\n",
      "Epoch 262: early stopping\n"
     ]
    },
    {
     "data": {
      "text/plain": [
       "<keras.src.callbacks.History at 0x3c4481210>"
      ]
     },
     "execution_count": 638,
     "metadata": {},
     "output_type": "execute_result"
    }
   ],
   "source": [
    "# Adding an additional LSTM layer and a Dropout layer\n",
    "# Define the model\n",
    "model = Sequential([layers.Input((3, 1)),\n",
    "                    layers.LSTM(64),\n",
    "                    layers.Dense(32, activation='relu'),\n",
    "                    layers.Dense(32, activation='relu'),\n",
    "                    layers.Dense(16, activation='relu'),\n",
    "                    layers.Dense(1)])\n",
    "model.compile(loss='mse', \n",
    "              optimizer=Adam(learning_rate=0.001),\n",
    "              metrics=['mean_absolute_error'])\n",
    "\n",
    "# Setup EarlyStopping\n",
    "early_stopping = EarlyStopping(\n",
    "    monitor='val_loss',       # Monitor the validation loss\n",
    "    min_delta=1.55e-10000,    # Minimum change to qualify as an improvement\n",
    "    patience=25,              # Number of epochs with no improvement after which training will be stopped\n",
    "    verbose=1,                # Enable verbose output\n",
    "    restore_best_weights=True # Restores model weights from the epoch with the best value of the monitored quantity\n",
    ")\n",
    "\n",
    "# Setup ReduceLROnPlateau\n",
    "reduce_lr = ReduceLROnPlateau(\n",
    "    monitor='val_loss',   # Monitor the validation loss\n",
    "    factor=0.5,           # Factor by which the learning rate will be reduced. new_lr = lr * factor\n",
    "    patience=25,          # Number of epochs with no improvement after which learning rate will be reduced\n",
    "    verbose=1             # Enable verbose output\n",
    ")\n",
    "\n",
    "model.fit(X_train, y_train, validation_data=(X_val, y_val), epochs=800,callbacks=[early_stopping, reduce_lr])"
   ]
  },
  {
   "cell_type": "code",
   "execution_count": 639,
   "metadata": {},
   "outputs": [
    {
     "name": "stdout",
     "output_type": "stream",
     "text": [
      "7/7 [==============================] - 0s 896us/step\n"
     ]
    },
    {
     "data": {
      "text/plain": [
       "<matplotlib.legend.Legend at 0x3c62df350>"
      ]
     },
     "execution_count": 639,
     "metadata": {},
     "output_type": "execute_result"
    },
    {
     "data": {
      "image/png": "[encoded data removed]",
      "text/plain": [
       "<Figure size 640x480 with 1 Axes>"
      ]
     },
     "metadata": {},
     "output_type": "display_data"
    }
   ],
   "source": [
    "train_predictions = model.predict(X_train).flatten()\n",
    "\n",
    "plt.plot(dates_train, train_predictions)\n",
    "plt.plot(dates_train, y_train)\n",
    "plt.legend(['Training Predictions', 'Training Observations'])"
   ]
  },
  {
   "cell_type": "code",
   "execution_count": 640,
   "metadata": {},
   "outputs": [
    {
     "name": "stdout",
     "output_type": "stream",
     "text": [
      "1/1 [==============================] - 0s 9ms/step\n"
     ]
    },
    {
     "data": {
      "text/plain": [
       "<matplotlib.legend.Legend at 0x3c73b0b10>"
      ]
     },
     "execution_count": 640,
     "metadata": {},
     "output_type": "execute_result"
    },
    {
     "data": {
      "image/png": "[encoded data removed]",
      "text/plain": [
       "<Figure size 640x480 with 1 Axes>"
      ]
     },
     "metadata": {},
     "output_type": "display_data"
    }
   ],
   "source": [
    "val_predictions = model.predict(X_val).flatten()\n",
    "\n",
    "plt.plot(dates_val, val_predictions)\n",
    "plt.plot(dates_val, y_val)\n",
    "plt.legend(['Validation Predictions', 'Validation Observations'])"
   ]
  },
  {
   "cell_type": "code",
   "execution_count": 641,
   "metadata": {},
   "outputs": [
    {
     "name": "stdout",
     "output_type": "stream",
     "text": [
      "1/1 [==============================] - 0s 9ms/step\n"
     ]
    },
    {
     "data": {
      "text/plain": [
       "<matplotlib.legend.Legend at 0x3c7929210>"
      ]
     },
     "execution_count": 641,
     "metadata": {},
     "output_type": "execute_result"
    },
    {
     "data": {
      "image/png": "[encoded data removed]",
      "text/plain": [
       "<Figure size 640x480 with 1 Axes>"
      ]
     },
     "metadata": {},
     "output_type": "display_data"
    }
   ],
   "source": [
    "test_predictions = model.predict(X_test).flatten()\n",
    "\n",
    "plt.plot(dates_test, test_predictions)\n",
    "plt.plot(dates_test, y_test)\n",
    "plt.legend(['Testing Predictions', 'Testing Observations'])"
   ]
  },
  {
   "cell_type": "markdown",
   "metadata": {},
   "source": [
    "# Recursive Prediction"
   ]
  },
  {
   "cell_type": "markdown",
   "metadata": {},
   "source": [
    "Recursive prediction begins witht eh final data point in the available dataset, which I assume is the last date in the training set. This method uses this last known data point as the starting basis for generating subsequent predictions. "
   ]
  },
  {
   "cell_type": "code",
   "execution_count": 642,
   "metadata": {},
   "outputs": [
    {
     "name": "stdout",
     "output_type": "stream",
     "text": [
      "1/1 [==============================] - 0s 17ms/step\n",
      "1/1 [==============================] - 0s 8ms/step\n",
      "1/1 [==============================] - 0s 11ms/step\n",
      "1/1 [==============================] - 0s 8ms/step\n",
      "1/1 [==============================] - 0s 8ms/step\n",
      "1/1 [==============================] - 0s 8ms/step\n",
      "1/1 [==============================] - 0s 8ms/step\n",
      "1/1 [==============================] - 0s 7ms/step\n",
      "1/1 [==============================] - 0s 7ms/step\n",
      "1/1 [==============================] - 0s 8ms/step\n",
      "1/1 [==============================] - 0s 8ms/step\n",
      "1/1 [==============================] - 0s 8ms/step\n",
      "1/1 [==============================] - 0s 7ms/step\n",
      "1/1 [==============================] - 0s 7ms/step\n",
      "1/1 [==============================] - 0s 12ms/step\n",
      "1/1 [==============================] - 0s 8ms/step\n",
      "1/1 [==============================] - 0s 8ms/step\n",
      "1/1 [==============================] - 0s 8ms/step\n",
      "1/1 [==============================] - 0s 8ms/step\n",
      "1/1 [==============================] - 0s 8ms/step\n",
      "1/1 [==============================] - 0s 8ms/step\n",
      "1/1 [==============================] - 0s 9ms/step\n",
      "1/1 [==============================] - 0s 8ms/step\n",
      "1/1 [==============================] - 0s 8ms/step\n",
      "1/1 [==============================] - 0s 9ms/step\n",
      "1/1 [==============================] - 0s 8ms/step\n",
      "1/1 [==============================] - 0s 8ms/step\n",
      "1/1 [==============================] - 0s 8ms/step\n",
      "1/1 [==============================] - 0s 8ms/step\n",
      "1/1 [==============================] - 0s 8ms/step\n",
      "1/1 [==============================] - 0s 14ms/step\n",
      "1/1 [==============================] - 0s 21ms/step\n",
      "1/1 [==============================] - 0s 10ms/step\n",
      "1/1 [==============================] - 0s 8ms/step\n",
      "1/1 [==============================] - 0s 8ms/step\n",
      "1/1 [==============================] - 0s 13ms/step\n",
      "1/1 [==============================] - 0s 8ms/step\n",
      "1/1 [==============================] - 0s 8ms/step\n",
      "1/1 [==============================] - 0s 8ms/step\n"
     ]
    }
   ],
   "source": [
    "from copy import deepcopy\n",
    "\n",
    "recursive_predictions = []\n",
    "recursive_dates = np.concatenate([dates_val, dates_test])\n",
    "\n",
    "for target_date in recursive_dates:\n",
    "  last_window = deepcopy(X_train[-1])\n",
    "  next_prediction = model.predict(np.array([last_window])).flatten()\n",
    "  recursive_predictions.append(next_prediction)\n",
    "  last_window[-1] = next_prediction"
   ]
  },
  {
   "cell_type": "code",
   "execution_count": 643,
   "metadata": {},
   "outputs": [
    {
     "data": {
      "text/plain": [
       "<matplotlib.legend.Legend at 0x3c7917350>"
      ]
     },
     "execution_count": 643,
     "metadata": {},
     "output_type": "execute_result"
    },
    {
     "data": {
      "image/png": "[encoded data removed]",
      "text/plain": [
       "<Figure size 640x480 with 1 Axes>"
      ]
     },
     "metadata": {},
     "output_type": "display_data"
    }
   ],
   "source": [
    "plt.plot(dates_train, train_predictions)\n",
    "plt.plot(dates_train, y_train)\n",
    "plt.plot(dates_val, val_predictions)\n",
    "plt.plot(dates_val, y_val)\n",
    "plt.plot(dates_test, test_predictions)\n",
    "plt.plot(dates_test, y_test)\n",
    "plt.plot(recursive_dates, recursive_predictions)\n",
    "plt.legend(['Training Predictions', \n",
    "            'Training Observations',\n",
    "            'Validation Predictions', \n",
    "            'Validation Observations',\n",
    "            'Testing Predictions', \n",
    "            'Testing Observations',\n",
    "            'Recursive Predictions'])"
   ]
  },
  {
   "cell_type": "markdown",
   "metadata": {},
   "source": [
    "## Predicting the next day"
   ]
  },
  {
   "cell_type": "code",
   "execution_count": 653,
   "metadata": {},
   "outputs": [
    {
     "data": {
      "text/plain": [
       "array(['2024-04-16T00:00:00.000000000'], dtype='datetime64[ns]')"
      ]
     },
     "execution_count": 653,
     "metadata": {},
     "output_type": "execute_result"
    }
   ],
   "source": [
    "dates[-n_future:]"
   ]
  },
  {
   "cell_type": "code",
   "execution_count": 654,
   "metadata": {},
   "outputs": [
    {
     "data": {
      "text/plain": [
       "numpy.datetime64('2024-04-16T00:00:00.000000000')"
      ]
     },
     "execution_count": 654,
     "metadata": {},
     "output_type": "execute_result"
    }
   ],
   "source": [
    "dates[-1]"
   ]
  },
  {
   "cell_type": "code",
   "execution_count": 655,
   "metadata": {},
   "outputs": [],
   "source": [
    "future_datelist = pd.date_range(dates[-1] + pd.Timedelta(days=1), periods=n_future, freq='1d').tolist()"
   ]
  },
  {
   "cell_type": "code",
   "execution_count": 656,
   "metadata": {},
   "outputs": [
    {
     "data": {
      "text/plain": [
       "[Timestamp('2024-04-17 00:00:00')]"
      ]
     },
     "execution_count": 656,
     "metadata": {},
     "output_type": "execute_result"
    }
   ],
   "source": [
    "future_datelist"
   ]
  },
  {
   "cell_type": "code",
   "execution_count": 657,
   "metadata": {},
   "outputs": [],
   "source": [
    "# Convert Pandas Timestamp to Datetime object\n",
    "future_date = []\n",
    "for this_timestamp in future_datelist:\n",
    "    future_date.append(this_timestamp.date())\n"
   ]
  },
  {
   "cell_type": "code",
   "execution_count": 658,
   "metadata": {},
   "outputs": [
    {
     "name": "stdout",
     "output_type": "stream",
     "text": [
      "1/1 [==============================] - 0s 10ms/step\n"
     ]
    }
   ],
   "source": [
    "predictions_future = model.predict(X[-n_future:])"
   ]
  },
  {
   "cell_type": "code",
   "execution_count": 659,
   "metadata": {},
   "outputs": [],
   "source": [
    "PREDICTION = pd.DataFrame(predictions_future, columns=['Close']).set_index(pd.Series(future_date))\n"
   ]
  },
  {
   "cell_type": "code",
   "execution_count": 660,
   "metadata": {},
   "outputs": [
    {
     "data": {
      "text/html": [
       "<div>\n",
       "<style scoped>\n",
       "    .dataframe tbody tr th:only-of-type {\n",
       "        vertical-align: middle;\n",
       "    }\n",
       "\n",
       "    .dataframe tbody tr th {\n",
       "        vertical-align: top;\n",
       "    }\n",
       "\n",
       "    .dataframe thead th {\n",
       "        text-align: right;\n",
       "    }\n",
       "</style>\n",
       "<table border=\"1\" class=\"dataframe\">\n",
       "  <thead>\n",
       "    <tr style=\"text-align: right;\">\n",
       "      <th></th>\n",
       "      <th>Close</th>\n",
       "    </tr>\n",
       "  </thead>\n",
       "  <tbody>\n",
       "    <tr>\n",
       "      <th>2024-04-17</th>\n",
       "      <td>770.845276</td>\n",
       "    </tr>\n",
       "  </tbody>\n",
       "</table>\n",
       "</div>"
      ],
      "text/plain": [
       "                 Close\n",
       "2024-04-17  770.845276"
      ]
     },
     "execution_count": 660,
     "metadata": {},
     "output_type": "execute_result"
    }
   ],
   "source": [
    "PREDICTION"
   ]
  },
  {
   "cell_type": "markdown",
   "metadata": {},
   "source": [
    "From the recursive predictions shown in the above plot. It's clear that the model has no idea on how to predict in the future and it simply think it will be what it was before which is not unreasonable at all. Stock prediction is extremely hard. Although the upward trend in the graph might indicate it's a good stock to buy, there is no absolute certainty in such conclusions. While no model can accurately predict stock on a day-to-day basis, this doesn't make the model useless. Generally, people consider stocks for long-term investments rather than short-term activity. LSTM prediction should be used as part of a broader investment strategy. "
   ]
  },
  {
   "cell_type": "code",
   "execution_count": null,
   "metadata": {},
   "outputs": [],
   "source": []
  }
 ],
 "metadata": {
  "kernelspec": {
   "display_name": "ALY6020",
   "language": "python",
   "name": "python3"
  },
  "language_info": {
   "codemirror_mode": {
    "name": "ipython",
    "version": 3
   },
   "file_extension": ".py",
   "mimetype": "text/x-python",
   "name": "python",
   "nbconvert_exporter": "python",
   "pygments_lexer": "ipython3",
   "version": "3.11.6"
  }
 },
 "nbformat": 4,
 "nbformat_minor": 2
}
